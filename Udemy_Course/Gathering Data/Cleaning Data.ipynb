{
 "cells": [
  {
   "cell_type": "code",
   "execution_count": 11,
   "id": "8a48f506",
   "metadata": {},
   "outputs": [],
   "source": [
    "import pandas as pd\n",
    "df=pd.read_excel(\"C:/Users/Asus/Downloads/Data+Science+in+Python+-+Data+Prep+&+EDA/Data/Run Times.xlsx\")"
   ]
  },
  {
   "cell_type": "code",
   "execution_count": 12,
   "id": "b1720281",
   "metadata": {},
   "outputs": [
    {
     "data": {
      "text/html": [
       "<div>\n",
       "<style scoped>\n",
       "    .dataframe tbody tr th:only-of-type {\n",
       "        vertical-align: middle;\n",
       "    }\n",
       "\n",
       "    .dataframe tbody tr th {\n",
       "        vertical-align: top;\n",
       "    }\n",
       "\n",
       "    .dataframe thead th {\n",
       "        text-align: right;\n",
       "    }\n",
       "</style>\n",
       "<table border=\"1\" class=\"dataframe\">\n",
       "  <thead>\n",
       "    <tr style=\"text-align: right;\">\n",
       "      <th></th>\n",
       "      <th>Name</th>\n",
       "      <th>Run Time</th>\n",
       "      <th>Warm Up Time</th>\n",
       "      <th>Location</th>\n",
       "      <th>Run Date</th>\n",
       "      <th>Race Date</th>\n",
       "      <th>Rain</th>\n",
       "      <th>Fee</th>\n",
       "    </tr>\n",
       "  </thead>\n",
       "  <tbody>\n",
       "    <tr>\n",
       "      <th>0</th>\n",
       "      <td>Alexis</td>\n",
       "      <td>9.2343</td>\n",
       "      <td>3.5</td>\n",
       "      <td>“school”</td>\n",
       "      <td>2023-04-15 12:00:00</td>\n",
       "      <td>2023-06-01</td>\n",
       "      <td>False</td>\n",
       "      <td>$0.00</td>\n",
       "    </tr>\n",
       "    <tr>\n",
       "      <th>1</th>\n",
       "      <td>Alexis</td>\n",
       "      <td>10.3842</td>\n",
       "      <td>3.5</td>\n",
       "      <td>School</td>\n",
       "      <td>2023-04-22 12:30:00</td>\n",
       "      <td>2023-06-01</td>\n",
       "      <td>True</td>\n",
       "      <td>$0.00</td>\n",
       "    </tr>\n",
       "    <tr>\n",
       "      <th>2</th>\n",
       "      <td>Alexis</td>\n",
       "      <td>8.1209</td>\n",
       "      <td>3 min</td>\n",
       "      <td>“the gym”</td>\n",
       "      <td>2023-05-10 15:00:00</td>\n",
       "      <td>2023-06-01</td>\n",
       "      <td>False</td>\n",
       "      <td>$2.50</td>\n",
       "    </tr>\n",
       "    <tr>\n",
       "      <th>3</th>\n",
       "      <td>David</td>\n",
       "      <td>7.2123</td>\n",
       "      <td>2.2</td>\n",
       "      <td>“school”</td>\n",
       "      <td>2023-05-01 15:15:00</td>\n",
       "      <td>2023-06-15</td>\n",
       "      <td>False</td>\n",
       "      <td>$0.00</td>\n",
       "    </tr>\n",
       "    <tr>\n",
       "      <th>4</th>\n",
       "      <td>David</td>\n",
       "      <td>6.8342</td>\n",
       "      <td>2</td>\n",
       "      <td>“gym”</td>\n",
       "      <td>2023-05-10 16:30:00</td>\n",
       "      <td>2023-06-15</td>\n",
       "      <td>False</td>\n",
       "      <td>$2.50</td>\n",
       "    </tr>\n",
       "  </tbody>\n",
       "</table>\n",
       "</div>"
      ],
      "text/plain": [
       "     Name  Run Time Warm Up Time   Location            Run Date  Race Date  \\\n",
       "0  Alexis    9.2343          3.5   “school” 2023-04-15 12:00:00 2023-06-01   \n",
       "1  Alexis   10.3842          3.5     School 2023-04-22 12:30:00 2023-06-01   \n",
       "2  Alexis    8.1209        3 min  “the gym” 2023-05-10 15:00:00 2023-06-01   \n",
       "3   David    7.2123          2.2   “school” 2023-05-01 15:15:00 2023-06-15   \n",
       "4   David    6.8342            2      “gym” 2023-05-10 16:30:00 2023-06-15   \n",
       "\n",
       "    Rain    Fee  \n",
       "0  False  $0.00  \n",
       "1   True  $0.00  \n",
       "2  False  $2.50  \n",
       "3  False  $0.00  \n",
       "4  False  $2.50  "
      ]
     },
     "execution_count": 12,
     "metadata": {},
     "output_type": "execute_result"
    }
   ],
   "source": [
    "df"
   ]
  },
  {
   "cell_type": "code",
   "execution_count": 13,
   "id": "e7ac00d1",
   "metadata": {},
   "outputs": [
    {
     "name": "stdout",
     "output_type": "stream",
     "text": [
      "<class 'pandas.core.frame.DataFrame'>\n",
      "RangeIndex: 5 entries, 0 to 4\n",
      "Data columns (total 8 columns):\n",
      " #   Column        Non-Null Count  Dtype         \n",
      "---  ------        --------------  -----         \n",
      " 0   Name          5 non-null      object        \n",
      " 1   Run Time      5 non-null      float64       \n",
      " 2   Warm Up Time  5 non-null      object        \n",
      " 3   Location      5 non-null      object        \n",
      " 4   Run Date      5 non-null      datetime64[ns]\n",
      " 5   Race Date     5 non-null      datetime64[ns]\n",
      " 6   Rain          5 non-null      bool          \n",
      " 7   Fee           5 non-null      object        \n",
      "dtypes: bool(1), datetime64[ns](2), float64(1), object(4)\n",
      "memory usage: 417.0+ bytes\n"
     ]
    }
   ],
   "source": [
    "df.info()"
   ]
  },
  {
   "cell_type": "code",
   "execution_count": 14,
   "id": "7faf4598",
   "metadata": {},
   "outputs": [
    {
     "data": {
      "text/plain": [
       "Name                    object\n",
       "Run Time               float64\n",
       "Warm Up Time            object\n",
       "Location                object\n",
       "Run Date        datetime64[ns]\n",
       "Race Date       datetime64[ns]\n",
       "Rain                      bool\n",
       "Fee                     object\n",
       "dtype: object"
      ]
     },
     "execution_count": 14,
     "metadata": {},
     "output_type": "execute_result"
    }
   ],
   "source": [
    "df.dtypes"
   ]
  },
  {
   "cell_type": "code",
   "execution_count": 15,
   "id": "4f2b90b8",
   "metadata": {},
   "outputs": [],
   "source": [
    "# fee is in object so we have change into numeric and  also replace dollar sign\n",
    "df.Fee=pd.to_numeric(df.Fee.str.replace('$',''))"
   ]
  },
  {
   "cell_type": "code",
   "execution_count": 16,
   "id": "3a180700",
   "metadata": {},
   "outputs": [
    {
     "data": {
      "text/html": [
       "<div>\n",
       "<style scoped>\n",
       "    .dataframe tbody tr th:only-of-type {\n",
       "        vertical-align: middle;\n",
       "    }\n",
       "\n",
       "    .dataframe tbody tr th {\n",
       "        vertical-align: top;\n",
       "    }\n",
       "\n",
       "    .dataframe thead th {\n",
       "        text-align: right;\n",
       "    }\n",
       "</style>\n",
       "<table border=\"1\" class=\"dataframe\">\n",
       "  <thead>\n",
       "    <tr style=\"text-align: right;\">\n",
       "      <th></th>\n",
       "      <th>Name</th>\n",
       "      <th>Run Time</th>\n",
       "      <th>Warm Up Time</th>\n",
       "      <th>Location</th>\n",
       "      <th>Run Date</th>\n",
       "      <th>Race Date</th>\n",
       "      <th>Rain</th>\n",
       "      <th>Fee</th>\n",
       "    </tr>\n",
       "  </thead>\n",
       "  <tbody>\n",
       "    <tr>\n",
       "      <th>0</th>\n",
       "      <td>Alexis</td>\n",
       "      <td>9.2343</td>\n",
       "      <td>3.5</td>\n",
       "      <td>“school”</td>\n",
       "      <td>2023-04-15 12:00:00</td>\n",
       "      <td>2023-06-01</td>\n",
       "      <td>False</td>\n",
       "      <td>0.0</td>\n",
       "    </tr>\n",
       "    <tr>\n",
       "      <th>1</th>\n",
       "      <td>Alexis</td>\n",
       "      <td>10.3842</td>\n",
       "      <td>3.5</td>\n",
       "      <td>School</td>\n",
       "      <td>2023-04-22 12:30:00</td>\n",
       "      <td>2023-06-01</td>\n",
       "      <td>True</td>\n",
       "      <td>0.0</td>\n",
       "    </tr>\n",
       "    <tr>\n",
       "      <th>2</th>\n",
       "      <td>Alexis</td>\n",
       "      <td>8.1209</td>\n",
       "      <td>3 min</td>\n",
       "      <td>“the gym”</td>\n",
       "      <td>2023-05-10 15:00:00</td>\n",
       "      <td>2023-06-01</td>\n",
       "      <td>False</td>\n",
       "      <td>2.5</td>\n",
       "    </tr>\n",
       "    <tr>\n",
       "      <th>3</th>\n",
       "      <td>David</td>\n",
       "      <td>7.2123</td>\n",
       "      <td>2.2</td>\n",
       "      <td>“school”</td>\n",
       "      <td>2023-05-01 15:15:00</td>\n",
       "      <td>2023-06-15</td>\n",
       "      <td>False</td>\n",
       "      <td>0.0</td>\n",
       "    </tr>\n",
       "    <tr>\n",
       "      <th>4</th>\n",
       "      <td>David</td>\n",
       "      <td>6.8342</td>\n",
       "      <td>2</td>\n",
       "      <td>“gym”</td>\n",
       "      <td>2023-05-10 16:30:00</td>\n",
       "      <td>2023-06-15</td>\n",
       "      <td>False</td>\n",
       "      <td>2.5</td>\n",
       "    </tr>\n",
       "  </tbody>\n",
       "</table>\n",
       "</div>"
      ],
      "text/plain": [
       "     Name  Run Time Warm Up Time   Location            Run Date  Race Date  \\\n",
       "0  Alexis    9.2343          3.5   “school” 2023-04-15 12:00:00 2023-06-01   \n",
       "1  Alexis   10.3842          3.5     School 2023-04-22 12:30:00 2023-06-01   \n",
       "2  Alexis    8.1209        3 min  “the gym” 2023-05-10 15:00:00 2023-06-01   \n",
       "3   David    7.2123          2.2   “school” 2023-05-01 15:15:00 2023-06-15   \n",
       "4   David    6.8342            2      “gym” 2023-05-10 16:30:00 2023-06-15   \n",
       "\n",
       "    Rain  Fee  \n",
       "0  False  0.0  \n",
       "1   True  0.0  \n",
       "2  False  2.5  \n",
       "3  False  0.0  \n",
       "4  False  2.5  "
      ]
     },
     "execution_count": 16,
     "metadata": {},
     "output_type": "execute_result"
    }
   ],
   "source": [
    "df"
   ]
  },
  {
   "cell_type": "code",
   "execution_count": 17,
   "id": "a7372003",
   "metadata": {},
   "outputs": [
    {
     "data": {
      "text/plain": [
       "0    3.5\n",
       "1    3.5\n",
       "2    NaN\n",
       "3    2.2\n",
       "4    2.0\n",
       "Name: Warm Up Time, dtype: float64"
      ]
     },
     "execution_count": 17,
     "metadata": {},
     "output_type": "execute_result"
    }
   ],
   "source": [
    "# warm upp time is in object type so change it into numeric\n",
    "pd.to_numeric(df['Warm Up Time'],errors='coerce')"
   ]
  },
  {
   "cell_type": "code",
   "execution_count": 23,
   "id": "7e53da6a",
   "metadata": {},
   "outputs": [
    {
     "data": {
      "text/plain": [
       "0    3.5\n",
       "1    3.5\n",
       "2    3.0\n",
       "3    2.2\n",
       "4    2.0\n",
       "Name: Warm Up Time, dtype: float64"
      ]
     },
     "execution_count": 23,
     "metadata": {},
     "output_type": "execute_result"
    }
   ],
   "source": [
    "# as 3 min replace by NAN we have to look into it\n",
    "df['Warm Up Time']=pd.to_numeric(df['Warm Up Time'].astype(str).str.replace(' min', ''))\n",
    "df['Warm Up Time']\n"
   ]
  },
  {
   "cell_type": "code",
   "execution_count": null,
   "id": "bcb32fcd",
   "metadata": {},
   "outputs": [],
   "source": []
  },
  {
   "cell_type": "code",
   "execution_count": null,
   "id": "d0fbd415",
   "metadata": {},
   "outputs": [],
   "source": []
  },
  {
   "cell_type": "markdown",
   "id": "876ed7d4",
   "metadata": {},
   "source": []
  },
  {
   "cell_type": "code",
   "execution_count": null,
   "id": "a973bf5c",
   "metadata": {},
   "outputs": [],
   "source": []
  }
 ],
 "metadata": {
  "kernelspec": {
   "display_name": "Python 3 (ipykernel)",
   "language": "python",
   "name": "python3"
  },
  "language_info": {
   "codemirror_mode": {
    "name": "ipython",
    "version": 3
   },
   "file_extension": ".py",
   "mimetype": "text/x-python",
   "name": "python",
   "nbconvert_exporter": "python",
   "pygments_lexer": "ipython3",
   "version": "3.11.5"
  }
 },
 "nbformat": 4,
 "nbformat_minor": 5
}
