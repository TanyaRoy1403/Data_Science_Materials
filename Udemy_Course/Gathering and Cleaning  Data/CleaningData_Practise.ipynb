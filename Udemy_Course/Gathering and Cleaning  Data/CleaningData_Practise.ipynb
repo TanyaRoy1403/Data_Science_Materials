{
 "cells": [
  {
   "cell_type": "code",
   "execution_count": 1,
   "id": "4f45f2c3",
   "metadata": {},
   "outputs": [],
   "source": [
    "import pandas as pd"
   ]
  },
  {
   "cell_type": "code",
   "execution_count": 2,
   "id": "6529a930",
   "metadata": {},
   "outputs": [],
   "source": [
    "df=pd.read_excel('Student Grades.xlsx')"
   ]
  },
  {
   "cell_type": "code",
   "execution_count": 3,
   "id": "7f918717",
   "metadata": {},
   "outputs": [
    {
     "data": {
      "text/html": [
       "<div>\n",
       "<style scoped>\n",
       "    .dataframe tbody tr th:only-of-type {\n",
       "        vertical-align: middle;\n",
       "    }\n",
       "\n",
       "    .dataframe tbody tr th {\n",
       "        vertical-align: top;\n",
       "    }\n",
       "\n",
       "    .dataframe thead th {\n",
       "        text-align: right;\n",
       "    }\n",
       "</style>\n",
       "<table border=\"1\" class=\"dataframe\">\n",
       "  <thead>\n",
       "    <tr style=\"text-align: right;\">\n",
       "      <th></th>\n",
       "      <th>Student</th>\n",
       "      <th>Class</th>\n",
       "      <th>Year</th>\n",
       "      <th>Grade</th>\n",
       "    </tr>\n",
       "  </thead>\n",
       "  <tbody>\n",
       "    <tr>\n",
       "      <th>0</th>\n",
       "      <td>Emma</td>\n",
       "      <td>Freshman Seminar</td>\n",
       "      <td>Freshman</td>\n",
       "      <td>86.0</td>\n",
       "    </tr>\n",
       "    <tr>\n",
       "      <th>1</th>\n",
       "      <td>Olivia</td>\n",
       "      <td>Freshman Seminar</td>\n",
       "      <td>Freshman</td>\n",
       "      <td>86.0</td>\n",
       "    </tr>\n",
       "    <tr>\n",
       "      <th>2</th>\n",
       "      <td>Noah</td>\n",
       "      <td>Freshman Seminar</td>\n",
       "      <td>Freshman</td>\n",
       "      <td>86.0</td>\n",
       "    </tr>\n",
       "    <tr>\n",
       "      <th>3</th>\n",
       "      <td>Sophia</td>\n",
       "      <td>Freshman Seminar</td>\n",
       "      <td>Freshman</td>\n",
       "      <td>87.0</td>\n",
       "    </tr>\n",
       "    <tr>\n",
       "      <th>4</th>\n",
       "      <td>Liam</td>\n",
       "      <td>Freshman Seminar</td>\n",
       "      <td>Freshman</td>\n",
       "      <td>90.0</td>\n",
       "    </tr>\n",
       "    <tr>\n",
       "      <th>...</th>\n",
       "      <td>...</td>\n",
       "      <td>...</td>\n",
       "      <td>...</td>\n",
       "      <td>...</td>\n",
       "    </tr>\n",
       "    <tr>\n",
       "      <th>81</th>\n",
       "      <td>NaN</td>\n",
       "      <td>NaN</td>\n",
       "      <td>NaN</td>\n",
       "      <td>NaN</td>\n",
       "    </tr>\n",
       "    <tr>\n",
       "      <th>82</th>\n",
       "      <td>Bennett</td>\n",
       "      <td>NaN</td>\n",
       "      <td>NaN</td>\n",
       "      <td>NaN</td>\n",
       "    </tr>\n",
       "    <tr>\n",
       "      <th>83</th>\n",
       "      <td>NaN</td>\n",
       "      <td>EDA</td>\n",
       "      <td>Junior</td>\n",
       "      <td>84.0</td>\n",
       "    </tr>\n",
       "    <tr>\n",
       "      <th>84</th>\n",
       "      <td>Gavin</td>\n",
       "      <td>EDA</td>\n",
       "      <td>Senior</td>\n",
       "      <td>NaN</td>\n",
       "    </tr>\n",
       "    <tr>\n",
       "      <th>85</th>\n",
       "      <td>Calvin</td>\n",
       "      <td>NaN</td>\n",
       "      <td>NaN</td>\n",
       "      <td>100.0</td>\n",
       "    </tr>\n",
       "  </tbody>\n",
       "</table>\n",
       "<p>86 rows × 4 columns</p>\n",
       "</div>"
      ],
      "text/plain": [
       "    Student             Class      Year  Grade\n",
       "0      Emma  Freshman Seminar  Freshman   86.0\n",
       "1    Olivia  Freshman Seminar  Freshman   86.0\n",
       "2      Noah  Freshman Seminar  Freshman   86.0\n",
       "3    Sophia  Freshman Seminar  Freshman   87.0\n",
       "4      Liam  Freshman Seminar  Freshman   90.0\n",
       "..      ...               ...       ...    ...\n",
       "81      NaN               NaN       NaN    NaN\n",
       "82  Bennett               NaN       NaN    NaN\n",
       "83      NaN               EDA    Junior   84.0\n",
       "84    Gavin               EDA    Senior    NaN\n",
       "85   Calvin               NaN       NaN  100.0\n",
       "\n",
       "[86 rows x 4 columns]"
      ]
     },
     "execution_count": 3,
     "metadata": {},
     "output_type": "execute_result"
    }
   ],
   "source": [
    "df"
   ]
  },
  {
   "cell_type": "markdown",
   "id": "446affe6",
   "metadata": {},
   "source": [
    "## 1.Finding and handling missing/null values"
   ]
  },
  {
   "cell_type": "code",
   "execution_count": 7,
   "id": "72f1829b",
   "metadata": {},
   "outputs": [
    {
     "data": {
      "text/plain": [
       "Student     object\n",
       "Class       object\n",
       "Year        object\n",
       "Grade      float64\n",
       "dtype: object"
      ]
     },
     "execution_count": 7,
     "metadata": {},
     "output_type": "execute_result"
    }
   ],
   "source": [
    "df.dtypes"
   ]
  },
  {
   "cell_type": "code",
   "execution_count": 5,
   "id": "b9d8724c",
   "metadata": {},
   "outputs": [
    {
     "data": {
      "text/plain": [
       "Student  Class            Year       Grade\n",
       "Isaac    Intro to SQL     Sophomore  96.0     3\n",
       "Aaron    EDA              Junior     85.0     1\n",
       "Joseph   Intro to Python  Freshman   93.0     1\n",
       "Luke     Intro to SQL     Sophomore  76.0     1\n",
       "Lucas    Intro to Python  Freshman   77.0     1\n",
       "                                             ..\n",
       "Eli      EDA              Junior     92.0     1\n",
       "Dylan    Intro to Python  Freshman   84.0     1\n",
       "David    Intro to Python  Freshman   74.0     1\n",
       "Daniel   Intro to Python  Freshman   85.0     1\n",
       "Zoey     EDA              Junior     91.0     1\n",
       "Name: count, Length: 75, dtype: int64"
      ]
     },
     "execution_count": 5,
     "metadata": {},
     "output_type": "execute_result"
    }
   ],
   "source": [
    "#unique value\n",
    "df.value_counts()"
   ]
  },
  {
   "cell_type": "code",
   "execution_count": 6,
   "id": "6b346657",
   "metadata": {},
   "outputs": [
    {
     "data": {
      "text/plain": [
       "Student    2\n",
       "Class      3\n",
       "Year       6\n",
       "Grade      4\n",
       "dtype: int64"
      ]
     },
     "execution_count": 6,
     "metadata": {},
     "output_type": "execute_result"
    }
   ],
   "source": [
    "#number of null values\n",
    "df.isnull().sum()"
   ]
  },
  {
   "cell_type": "code",
   "execution_count": 15,
   "id": "2d19828b",
   "metadata": {},
   "outputs": [],
   "source": [
    "# Remove leading/trailing spaces (if any)\n",
    "df['Student'] = df['Student'].astype(str).str.strip()\n",
    "\n",
    "# Replace 'nan' strings back to real NaN values\n",
    "import numpy as np\n",
    "df['Student'] = df['Student'].replace('nan', np.nan)\n"
   ]
  },
  {
   "cell_type": "code",
   "execution_count": 16,
   "id": "47dbcb9d",
   "metadata": {},
   "outputs": [
    {
     "data": {
      "text/plain": [
       "0    Isaac\n",
       "Name: Student, dtype: object"
      ]
     },
     "execution_count": 16,
     "metadata": {},
     "output_type": "execute_result"
    }
   ],
   "source": [
    "df['Student'].mode()\n"
   ]
  },
  {
   "cell_type": "code",
   "execution_count": 19,
   "id": "05d061e9",
   "metadata": {},
   "outputs": [],
   "source": [
    "df['Student'].fillna(df['Student'].mode()[0],inplace=True)"
   ]
  },
  {
   "cell_type": "code",
   "execution_count": 23,
   "id": "9d65908f",
   "metadata": {},
   "outputs": [
    {
     "data": {
      "text/plain": [
       "Student    0\n",
       "Class      3\n",
       "Year       6\n",
       "Grade      4\n",
       "dtype: int64"
      ]
     },
     "execution_count": 23,
     "metadata": {},
     "output_type": "execute_result"
    }
   ],
   "source": [
    "df.isnull().sum()"
   ]
  },
  {
   "cell_type": "code",
   "execution_count": 24,
   "id": "3bfc8c27",
   "metadata": {},
   "outputs": [
    {
     "data": {
      "text/plain": [
       "Class\n",
       "Intro to Python              25\n",
       "Intro to SQL                 20\n",
       "EDA                          13\n",
       "Freshman Seminar             12\n",
       "Exploratory Data Analysis    12\n",
       "Python                        1\n",
       "Name: count, dtype: int64"
      ]
     },
     "execution_count": 24,
     "metadata": {},
     "output_type": "execute_result"
    }
   ],
   "source": [
    "df['Class'].value_counts()"
   ]
  },
  {
   "cell_type": "code",
   "execution_count": 25,
   "id": "a2422349",
   "metadata": {},
   "outputs": [
    {
     "data": {
      "text/html": [
       "<div>\n",
       "<style scoped>\n",
       "    .dataframe tbody tr th:only-of-type {\n",
       "        vertical-align: middle;\n",
       "    }\n",
       "\n",
       "    .dataframe tbody tr th {\n",
       "        vertical-align: top;\n",
       "    }\n",
       "\n",
       "    .dataframe thead th {\n",
       "        text-align: right;\n",
       "    }\n",
       "</style>\n",
       "<table border=\"1\" class=\"dataframe\">\n",
       "  <thead>\n",
       "    <tr style=\"text-align: right;\">\n",
       "      <th></th>\n",
       "      <th>Student</th>\n",
       "      <th>Class</th>\n",
       "      <th>Year</th>\n",
       "      <th>Grade</th>\n",
       "    </tr>\n",
       "  </thead>\n",
       "  <tbody>\n",
       "    <tr>\n",
       "      <th>81</th>\n",
       "      <td>Isaac</td>\n",
       "      <td>NaN</td>\n",
       "      <td>NaN</td>\n",
       "      <td>NaN</td>\n",
       "    </tr>\n",
       "    <tr>\n",
       "      <th>82</th>\n",
       "      <td>Bennett</td>\n",
       "      <td>NaN</td>\n",
       "      <td>NaN</td>\n",
       "      <td>NaN</td>\n",
       "    </tr>\n",
       "    <tr>\n",
       "      <th>85</th>\n",
       "      <td>Calvin</td>\n",
       "      <td>NaN</td>\n",
       "      <td>NaN</td>\n",
       "      <td>100.0</td>\n",
       "    </tr>\n",
       "  </tbody>\n",
       "</table>\n",
       "</div>"
      ],
      "text/plain": [
       "    Student Class Year  Grade\n",
       "81    Isaac   NaN  NaN    NaN\n",
       "82  Bennett   NaN  NaN    NaN\n",
       "85   Calvin   NaN  NaN  100.0"
      ]
     },
     "execution_count": 25,
     "metadata": {},
     "output_type": "execute_result"
    }
   ],
   "source": [
    "df[df['Class'].isnull()]"
   ]
  },
  {
   "cell_type": "code",
   "execution_count": 26,
   "id": "c603482c",
   "metadata": {},
   "outputs": [],
   "source": [
    "# Remove leading/trailing spaces (if any)\n",
    "df['Class'] = df['Class'].astype(str).str.strip()\n",
    "\n",
    "# Replace 'nan' strings back to real NaN values\n",
    "import numpy as np\n",
    "df['Class'] = df['Class'].replace('nan', np.nan)\n"
   ]
  },
  {
   "cell_type": "code",
   "execution_count": 27,
   "id": "b7aecfdc",
   "metadata": {},
   "outputs": [
    {
     "data": {
      "text/plain": [
       "0    Intro to Python\n",
       "Name: Class, dtype: object"
      ]
     },
     "execution_count": 27,
     "metadata": {},
     "output_type": "execute_result"
    }
   ],
   "source": [
    "df['Class'].mode()"
   ]
  },
  {
   "cell_type": "code",
   "execution_count": 28,
   "id": "61315159",
   "metadata": {},
   "outputs": [],
   "source": [
    "df['Class'].fillna(df['Class'].mode()[0],inplace=True)"
   ]
  },
  {
   "cell_type": "code",
   "execution_count": 30,
   "id": "3d5e306d",
   "metadata": {},
   "outputs": [
    {
     "data": {
      "text/plain": [
       "Student    0\n",
       "Class      0\n",
       "Year       6\n",
       "Grade      4\n",
       "dtype: int64"
      ]
     },
     "execution_count": 30,
     "metadata": {},
     "output_type": "execute_result"
    }
   ],
   "source": [
    "df.isnull().sum()"
   ]
  },
  {
   "cell_type": "code",
   "execution_count": 31,
   "id": "c6f87e03",
   "metadata": {},
   "outputs": [
    {
     "data": {
      "text/plain": [
       "Class\n",
       "Intro to Python              28\n",
       "Intro to SQL                 20\n",
       "EDA                          13\n",
       "Freshman Seminar             12\n",
       "Exploratory Data Analysis    12\n",
       "Python                        1\n",
       "Name: count, dtype: int64"
      ]
     },
     "execution_count": 31,
     "metadata": {},
     "output_type": "execute_result"
    }
   ],
   "source": [
    "df['Class'].value_counts()"
   ]
  },
  {
   "cell_type": "code",
   "execution_count": 34,
   "id": "bc841f8e",
   "metadata": {},
   "outputs": [
    {
     "data": {
      "text/plain": [
       "0    Freshman\n",
       "Name: Year, dtype: object"
      ]
     },
     "execution_count": 34,
     "metadata": {},
     "output_type": "execute_result"
    }
   ],
   "source": [
    "df['Year'].mode()"
   ]
  },
  {
   "cell_type": "code",
   "execution_count": 32,
   "id": "783ccf19",
   "metadata": {},
   "outputs": [],
   "source": [
    "df['Year'].fillna(df['Year'].mode()[0],inplace=True)"
   ]
  },
  {
   "cell_type": "code",
   "execution_count": 33,
   "id": "edc83549",
   "metadata": {},
   "outputs": [
    {
     "data": {
      "text/plain": [
       "Student    0\n",
       "Class      0\n",
       "Year       0\n",
       "Grade      4\n",
       "dtype: int64"
      ]
     },
     "execution_count": 33,
     "metadata": {},
     "output_type": "execute_result"
    }
   ],
   "source": [
    "df.isnull().sum()"
   ]
  },
  {
   "cell_type": "code",
   "execution_count": 35,
   "id": "a856421e",
   "metadata": {},
   "outputs": [
    {
     "data": {
      "text/plain": [
       "count     82.000000\n",
       "mean      85.707317\n",
       "std       15.527346\n",
       "min       45.000000\n",
       "25%       81.000000\n",
       "50%       85.000000\n",
       "75%       90.000000\n",
       "max      200.000000\n",
       "Name: Grade, dtype: float64"
      ]
     },
     "execution_count": 35,
     "metadata": {},
     "output_type": "execute_result"
    }
   ],
   "source": [
    "df['Grade'].describe()"
   ]
  },
  {
   "cell_type": "code",
   "execution_count": 36,
   "id": "1621f02a",
   "metadata": {},
   "outputs": [],
   "source": [
    "#here 200 is a outlier so we can not use mean to replace null value\n",
    "df['Grade'].fillna(df['Grade'].median(), inplace=True)\n"
   ]
  },
  {
   "cell_type": "code",
   "execution_count": 37,
   "id": "ef3adefa",
   "metadata": {},
   "outputs": [
    {
     "data": {
      "text/plain": [
       "Student    0\n",
       "Class      0\n",
       "Year       0\n",
       "Grade      0\n",
       "dtype: int64"
      ]
     },
     "execution_count": 37,
     "metadata": {},
     "output_type": "execute_result"
    }
   ],
   "source": [
    "df.isnull().sum()"
   ]
  },
  {
   "cell_type": "markdown",
   "id": "4ebb3475",
   "metadata": {},
   "source": [
    "Note : in grade col we replace null values with median but there is a one outlier present so it is not a good practise to replace null values without removing outliers"
   ]
  },
  {
   "cell_type": "markdown",
   "id": "82ba9bfb",
   "metadata": {},
   "source": [
    "## 2.Finding and handling inconsistent text/typos"
   ]
  },
  {
   "cell_type": "code",
   "execution_count": 138,
   "id": "04a5daba",
   "metadata": {},
   "outputs": [
    {
     "data": {
      "text/html": [
       "<div>\n",
       "<style scoped>\n",
       "    .dataframe tbody tr th:only-of-type {\n",
       "        vertical-align: middle;\n",
       "    }\n",
       "\n",
       "    .dataframe tbody tr th {\n",
       "        vertical-align: top;\n",
       "    }\n",
       "\n",
       "    .dataframe thead th {\n",
       "        text-align: right;\n",
       "    }\n",
       "</style>\n",
       "<table border=\"1\" class=\"dataframe\">\n",
       "  <thead>\n",
       "    <tr style=\"text-align: right;\">\n",
       "      <th></th>\n",
       "      <th>Student</th>\n",
       "      <th>Class</th>\n",
       "      <th>Year</th>\n",
       "      <th>Grade</th>\n",
       "    </tr>\n",
       "  </thead>\n",
       "  <tbody>\n",
       "    <tr>\n",
       "      <th>0</th>\n",
       "      <td>Emma</td>\n",
       "      <td>Freshman Seminar</td>\n",
       "      <td>Freshman</td>\n",
       "      <td>86.0</td>\n",
       "    </tr>\n",
       "    <tr>\n",
       "      <th>1</th>\n",
       "      <td>Olivia</td>\n",
       "      <td>Freshman Seminar</td>\n",
       "      <td>Freshman</td>\n",
       "      <td>86.0</td>\n",
       "    </tr>\n",
       "    <tr>\n",
       "      <th>2</th>\n",
       "      <td>Noah</td>\n",
       "      <td>Freshman Seminar</td>\n",
       "      <td>Freshman</td>\n",
       "      <td>86.0</td>\n",
       "    </tr>\n",
       "    <tr>\n",
       "      <th>3</th>\n",
       "      <td>Sophia</td>\n",
       "      <td>Freshman Seminar</td>\n",
       "      <td>Freshman</td>\n",
       "      <td>87.0</td>\n",
       "    </tr>\n",
       "    <tr>\n",
       "      <th>4</th>\n",
       "      <td>Liam</td>\n",
       "      <td>Freshman Seminar</td>\n",
       "      <td>Freshman</td>\n",
       "      <td>90.0</td>\n",
       "    </tr>\n",
       "    <tr>\n",
       "      <th>...</th>\n",
       "      <td>...</td>\n",
       "      <td>...</td>\n",
       "      <td>...</td>\n",
       "      <td>...</td>\n",
       "    </tr>\n",
       "    <tr>\n",
       "      <th>81</th>\n",
       "      <td>NaN</td>\n",
       "      <td>NaN</td>\n",
       "      <td>NaN</td>\n",
       "      <td>NaN</td>\n",
       "    </tr>\n",
       "    <tr>\n",
       "      <th>82</th>\n",
       "      <td>Bennett</td>\n",
       "      <td>NaN</td>\n",
       "      <td>NaN</td>\n",
       "      <td>NaN</td>\n",
       "    </tr>\n",
       "    <tr>\n",
       "      <th>83</th>\n",
       "      <td>NaN</td>\n",
       "      <td>EDA</td>\n",
       "      <td>Junior</td>\n",
       "      <td>84.0</td>\n",
       "    </tr>\n",
       "    <tr>\n",
       "      <th>84</th>\n",
       "      <td>Gavin</td>\n",
       "      <td>EDA</td>\n",
       "      <td>Senior</td>\n",
       "      <td>NaN</td>\n",
       "    </tr>\n",
       "    <tr>\n",
       "      <th>85</th>\n",
       "      <td>Calvin</td>\n",
       "      <td>NaN</td>\n",
       "      <td>NaN</td>\n",
       "      <td>100.0</td>\n",
       "    </tr>\n",
       "  </tbody>\n",
       "</table>\n",
       "<p>86 rows × 4 columns</p>\n",
       "</div>"
      ],
      "text/plain": [
       "    Student             Class      Year  Grade\n",
       "0      Emma  Freshman Seminar  Freshman   86.0\n",
       "1    Olivia  Freshman Seminar  Freshman   86.0\n",
       "2      Noah  Freshman Seminar  Freshman   86.0\n",
       "3    Sophia  Freshman Seminar  Freshman   87.0\n",
       "4      Liam  Freshman Seminar  Freshman   90.0\n",
       "..      ...               ...       ...    ...\n",
       "81      NaN               NaN       NaN    NaN\n",
       "82  Bennett               NaN       NaN    NaN\n",
       "83      NaN               EDA    Junior   84.0\n",
       "84    Gavin               EDA    Senior    NaN\n",
       "85   Calvin               NaN       NaN  100.0\n",
       "\n",
       "[86 rows x 4 columns]"
      ]
     },
     "execution_count": 138,
     "metadata": {},
     "output_type": "execute_result"
    }
   ],
   "source": [
    "#importing again the dataset so that what we have change that will not reflected in it\n",
    "df=pd.read_excel('Student Grades.xlsx')\n",
    "df"
   ]
  },
  {
   "cell_type": "code",
   "execution_count": 139,
   "id": "91b0dd40",
   "metadata": {},
   "outputs": [
    {
     "data": {
      "text/plain": [
       "Student     object\n",
       "Class       object\n",
       "Year        object\n",
       "Grade      float64\n",
       "dtype: object"
      ]
     },
     "execution_count": 139,
     "metadata": {},
     "output_type": "execute_result"
    }
   ],
   "source": [
    "df.dtypes"
   ]
  },
  {
   "cell_type": "markdown",
   "id": "071a8c5f",
   "metadata": {},
   "source": [
    "Use Value_counts() for categorical data type and use decribe() for numerical data type"
   ]
  },
  {
   "cell_type": "code",
   "execution_count": 140,
   "id": "b0fa09ec",
   "metadata": {},
   "outputs": [
    {
     "data": {
      "text/plain": [
       "Student\n",
       "Isaac      3\n",
       "Mia        2\n",
       "Nathan     1\n",
       "Landon     1\n",
       "Chloe      1\n",
       "          ..\n",
       "Joseph     1\n",
       "David      1\n",
       "Lucas      1\n",
       "Jackson    1\n",
       "Calvin     1\n",
       "Name: count, Length: 81, dtype: int64"
      ]
     },
     "execution_count": 140,
     "metadata": {},
     "output_type": "execute_result"
    }
   ],
   "source": [
    "df.Student.value_counts()"
   ]
  },
  {
   "cell_type": "code",
   "execution_count": 141,
   "id": "444aa023",
   "metadata": {},
   "outputs": [
    {
     "data": {
      "text/plain": [
       "Class\n",
       "Intro to Python              25\n",
       "Intro to SQL                 20\n",
       "EDA                          13\n",
       "Freshman Seminar             12\n",
       "Exploratory Data Analysis    12\n",
       "Python                        1\n",
       "Name: count, dtype: int64"
      ]
     },
     "execution_count": 141,
     "metadata": {},
     "output_type": "execute_result"
    }
   ],
   "source": [
    "df.Class.value_counts()"
   ]
  },
  {
   "cell_type": "code",
   "execution_count": 142,
   "id": "aeae256f",
   "metadata": {},
   "outputs": [
    {
     "data": {
      "text/plain": [
       "Year\n",
       "Freshman     35\n",
       "Sophomore    24\n",
       "Junior       20\n",
       "Senior        1\n",
       "Name: count, dtype: int64"
      ]
     },
     "execution_count": 142,
     "metadata": {},
     "output_type": "execute_result"
    }
   ],
   "source": [
    "df.Year.value_counts()"
   ]
  },
  {
   "cell_type": "markdown",
   "id": "d277f87c",
   "metadata": {},
   "source": [
    "Here EDA and Exploratory Data Analysis is same , Intro to Python and Python is same , so we have to merge them in one"
   ]
  },
  {
   "cell_type": "code",
   "execution_count": 143,
   "id": "043f4e3e",
   "metadata": {},
   "outputs": [
    {
     "data": {
      "text/html": [
       "<div>\n",
       "<style scoped>\n",
       "    .dataframe tbody tr th:only-of-type {\n",
       "        vertical-align: middle;\n",
       "    }\n",
       "\n",
       "    .dataframe tbody tr th {\n",
       "        vertical-align: top;\n",
       "    }\n",
       "\n",
       "    .dataframe thead th {\n",
       "        text-align: right;\n",
       "    }\n",
       "</style>\n",
       "<table border=\"1\" class=\"dataframe\">\n",
       "  <thead>\n",
       "    <tr style=\"text-align: right;\">\n",
       "      <th></th>\n",
       "      <th>Student</th>\n",
       "      <th>Class</th>\n",
       "      <th>Year</th>\n",
       "      <th>Grade</th>\n",
       "    </tr>\n",
       "  </thead>\n",
       "  <tbody>\n",
       "    <tr>\n",
       "      <th>58</th>\n",
       "      <td>Evelyn</td>\n",
       "      <td>Exploratory Data Analysis</td>\n",
       "      <td>Sophomore</td>\n",
       "      <td>89.0</td>\n",
       "    </tr>\n",
       "    <tr>\n",
       "      <th>59</th>\n",
       "      <td>Jack</td>\n",
       "      <td>Exploratory Data Analysis</td>\n",
       "      <td>Sophomore</td>\n",
       "      <td>84.0</td>\n",
       "    </tr>\n",
       "    <tr>\n",
       "      <th>60</th>\n",
       "      <td>Ella</td>\n",
       "      <td>Exploratory Data Analysis</td>\n",
       "      <td>Sophomore</td>\n",
       "      <td>200.0</td>\n",
       "    </tr>\n",
       "    <tr>\n",
       "      <th>61</th>\n",
       "      <td>Chloe</td>\n",
       "      <td>Exploratory Data Analysis</td>\n",
       "      <td>Sophomore</td>\n",
       "      <td>87.0</td>\n",
       "    </tr>\n",
       "    <tr>\n",
       "      <th>62</th>\n",
       "      <td>Landon</td>\n",
       "      <td>Exploratory Data Analysis</td>\n",
       "      <td>Junior</td>\n",
       "      <td>NaN</td>\n",
       "    </tr>\n",
       "    <tr>\n",
       "      <th>63</th>\n",
       "      <td>Christian</td>\n",
       "      <td>Exploratory Data Analysis</td>\n",
       "      <td>Junior</td>\n",
       "      <td>77.0</td>\n",
       "    </tr>\n",
       "    <tr>\n",
       "      <th>64</th>\n",
       "      <td>Jordan</td>\n",
       "      <td>Exploratory Data Analysis</td>\n",
       "      <td>Junior</td>\n",
       "      <td>83.0</td>\n",
       "    </tr>\n",
       "    <tr>\n",
       "      <th>65</th>\n",
       "      <td>Jonathan</td>\n",
       "      <td>Exploratory Data Analysis</td>\n",
       "      <td>Junior</td>\n",
       "      <td>82.0</td>\n",
       "    </tr>\n",
       "    <tr>\n",
       "      <th>66</th>\n",
       "      <td>Levi</td>\n",
       "      <td>Exploratory Data Analysis</td>\n",
       "      <td>Junior</td>\n",
       "      <td>91.0</td>\n",
       "    </tr>\n",
       "    <tr>\n",
       "      <th>67</th>\n",
       "      <td>Victoria</td>\n",
       "      <td>Exploratory Data Analysis</td>\n",
       "      <td>Junior</td>\n",
       "      <td>90.0</td>\n",
       "    </tr>\n",
       "    <tr>\n",
       "      <th>68</th>\n",
       "      <td>Aubrey</td>\n",
       "      <td>Exploratory Data Analysis</td>\n",
       "      <td>Junior</td>\n",
       "      <td>83.0</td>\n",
       "    </tr>\n",
       "    <tr>\n",
       "      <th>69</th>\n",
       "      <td>Jaxon</td>\n",
       "      <td>Exploratory Data Analysis</td>\n",
       "      <td>Junior</td>\n",
       "      <td>64.0</td>\n",
       "    </tr>\n",
       "    <tr>\n",
       "      <th>70</th>\n",
       "      <td>Julian</td>\n",
       "      <td>EDA</td>\n",
       "      <td>Junior</td>\n",
       "      <td>95.0</td>\n",
       "    </tr>\n",
       "    <tr>\n",
       "      <th>71</th>\n",
       "      <td>Grace</td>\n",
       "      <td>EDA</td>\n",
       "      <td>Junior</td>\n",
       "      <td>77.0</td>\n",
       "    </tr>\n",
       "    <tr>\n",
       "      <th>72</th>\n",
       "      <td>Isaiah</td>\n",
       "      <td>EDA</td>\n",
       "      <td>Junior</td>\n",
       "      <td>88.0</td>\n",
       "    </tr>\n",
       "    <tr>\n",
       "      <th>73</th>\n",
       "      <td>Cameron</td>\n",
       "      <td>EDA</td>\n",
       "      <td>Junior</td>\n",
       "      <td>72.0</td>\n",
       "    </tr>\n",
       "    <tr>\n",
       "      <th>74</th>\n",
       "      <td>Eli</td>\n",
       "      <td>EDA</td>\n",
       "      <td>Junior</td>\n",
       "      <td>92.0</td>\n",
       "    </tr>\n",
       "    <tr>\n",
       "      <th>75</th>\n",
       "      <td>Angel</td>\n",
       "      <td>EDA</td>\n",
       "      <td>Junior</td>\n",
       "      <td>79.0</td>\n",
       "    </tr>\n",
       "    <tr>\n",
       "      <th>76</th>\n",
       "      <td>Zoey</td>\n",
       "      <td>EDA</td>\n",
       "      <td>Junior</td>\n",
       "      <td>91.0</td>\n",
       "    </tr>\n",
       "    <tr>\n",
       "      <th>77</th>\n",
       "      <td>Aaron</td>\n",
       "      <td>EDA</td>\n",
       "      <td>Junior</td>\n",
       "      <td>85.0</td>\n",
       "    </tr>\n",
       "    <tr>\n",
       "      <th>78</th>\n",
       "      <td>Charles</td>\n",
       "      <td>EDA</td>\n",
       "      <td>Junior</td>\n",
       "      <td>93.0</td>\n",
       "    </tr>\n",
       "    <tr>\n",
       "      <th>79</th>\n",
       "      <td>Connor</td>\n",
       "      <td>EDA</td>\n",
       "      <td>Junior</td>\n",
       "      <td>91.0</td>\n",
       "    </tr>\n",
       "    <tr>\n",
       "      <th>80</th>\n",
       "      <td>Riley</td>\n",
       "      <td>EDA</td>\n",
       "      <td>Junior</td>\n",
       "      <td>87.0</td>\n",
       "    </tr>\n",
       "    <tr>\n",
       "      <th>83</th>\n",
       "      <td>NaN</td>\n",
       "      <td>EDA</td>\n",
       "      <td>Junior</td>\n",
       "      <td>84.0</td>\n",
       "    </tr>\n",
       "    <tr>\n",
       "      <th>84</th>\n",
       "      <td>Gavin</td>\n",
       "      <td>EDA</td>\n",
       "      <td>Senior</td>\n",
       "      <td>NaN</td>\n",
       "    </tr>\n",
       "  </tbody>\n",
       "</table>\n",
       "</div>"
      ],
      "text/plain": [
       "      Student                      Class       Year  Grade\n",
       "58     Evelyn  Exploratory Data Analysis  Sophomore   89.0\n",
       "59       Jack  Exploratory Data Analysis  Sophomore   84.0\n",
       "60       Ella  Exploratory Data Analysis  Sophomore  200.0\n",
       "61      Chloe  Exploratory Data Analysis  Sophomore   87.0\n",
       "62     Landon  Exploratory Data Analysis     Junior    NaN\n",
       "63  Christian  Exploratory Data Analysis     Junior   77.0\n",
       "64     Jordan  Exploratory Data Analysis     Junior   83.0\n",
       "65   Jonathan  Exploratory Data Analysis     Junior   82.0\n",
       "66       Levi  Exploratory Data Analysis     Junior   91.0\n",
       "67   Victoria  Exploratory Data Analysis     Junior   90.0\n",
       "68     Aubrey  Exploratory Data Analysis     Junior   83.0\n",
       "69      Jaxon  Exploratory Data Analysis     Junior   64.0\n",
       "70     Julian                        EDA     Junior   95.0\n",
       "71      Grace                        EDA     Junior   77.0\n",
       "72     Isaiah                        EDA     Junior   88.0\n",
       "73    Cameron                        EDA     Junior   72.0\n",
       "74        Eli                        EDA     Junior   92.0\n",
       "75      Angel                        EDA     Junior   79.0\n",
       "76       Zoey                        EDA     Junior   91.0\n",
       "77      Aaron                        EDA     Junior   85.0\n",
       "78    Charles                        EDA     Junior   93.0\n",
       "79     Connor                        EDA     Junior   91.0\n",
       "80      Riley                        EDA     Junior   87.0\n",
       "83        NaN                        EDA     Junior   84.0\n",
       "84      Gavin                        EDA     Senior    NaN"
      ]
     },
     "execution_count": 143,
     "metadata": {},
     "output_type": "execute_result"
    }
   ],
   "source": [
    "# so lets do for class \n",
    "df[df.Class.isin(['Exploratory Data Analysis','EDA'])]"
   ]
  },
  {
   "cell_type": "code",
   "execution_count": 144,
   "id": "0dfdfb93",
   "metadata": {},
   "outputs": [
    {
     "data": {
      "text/html": [
       "<div>\n",
       "<style scoped>\n",
       "    .dataframe tbody tr th:only-of-type {\n",
       "        vertical-align: middle;\n",
       "    }\n",
       "\n",
       "    .dataframe tbody tr th {\n",
       "        vertical-align: top;\n",
       "    }\n",
       "\n",
       "    .dataframe thead th {\n",
       "        text-align: right;\n",
       "    }\n",
       "</style>\n",
       "<table border=\"1\" class=\"dataframe\">\n",
       "  <thead>\n",
       "    <tr style=\"text-align: right;\">\n",
       "      <th></th>\n",
       "      <th>Student</th>\n",
       "      <th>Class</th>\n",
       "      <th>Year</th>\n",
       "      <th>Grade</th>\n",
       "    </tr>\n",
       "  </thead>\n",
       "  <tbody>\n",
       "    <tr>\n",
       "      <th>12</th>\n",
       "      <td>Alexander</td>\n",
       "      <td>Intro to Python</td>\n",
       "      <td>Freshman</td>\n",
       "      <td>85.0</td>\n",
       "    </tr>\n",
       "    <tr>\n",
       "      <th>13</th>\n",
       "      <td>Logan</td>\n",
       "      <td>Intro to Python</td>\n",
       "      <td>Freshman</td>\n",
       "      <td>85.0</td>\n",
       "    </tr>\n",
       "    <tr>\n",
       "      <th>14</th>\n",
       "      <td>James</td>\n",
       "      <td>Intro to Python</td>\n",
       "      <td>Freshman</td>\n",
       "      <td>82.0</td>\n",
       "    </tr>\n",
       "    <tr>\n",
       "      <th>15</th>\n",
       "      <td>Daniel</td>\n",
       "      <td>Intro to Python</td>\n",
       "      <td>Freshman</td>\n",
       "      <td>85.0</td>\n",
       "    </tr>\n",
       "    <tr>\n",
       "      <th>16</th>\n",
       "      <td>Elijah</td>\n",
       "      <td>Intro to Python</td>\n",
       "      <td>Freshman</td>\n",
       "      <td>85.0</td>\n",
       "    </tr>\n",
       "    <tr>\n",
       "      <th>17</th>\n",
       "      <td>Benjamin</td>\n",
       "      <td>Intro to Python</td>\n",
       "      <td>Freshman</td>\n",
       "      <td>81.0</td>\n",
       "    </tr>\n",
       "    <tr>\n",
       "      <th>18</th>\n",
       "      <td>Mia</td>\n",
       "      <td>Intro to Python</td>\n",
       "      <td>Freshman</td>\n",
       "      <td>80.0</td>\n",
       "    </tr>\n",
       "    <tr>\n",
       "      <th>19</th>\n",
       "      <td>Mia</td>\n",
       "      <td>Python</td>\n",
       "      <td>Freshman</td>\n",
       "      <td>80.0</td>\n",
       "    </tr>\n",
       "    <tr>\n",
       "      <th>20</th>\n",
       "      <td>Jayden</td>\n",
       "      <td>Intro to Python</td>\n",
       "      <td>Freshman</td>\n",
       "      <td>82.0</td>\n",
       "    </tr>\n",
       "    <tr>\n",
       "      <th>21</th>\n",
       "      <td>Aiden</td>\n",
       "      <td>Intro to Python</td>\n",
       "      <td>Freshman</td>\n",
       "      <td>86.0</td>\n",
       "    </tr>\n",
       "    <tr>\n",
       "      <th>22</th>\n",
       "      <td>Matthew</td>\n",
       "      <td>Intro to Python</td>\n",
       "      <td>Freshman</td>\n",
       "      <td>87.0</td>\n",
       "    </tr>\n",
       "    <tr>\n",
       "      <th>23</th>\n",
       "      <td>Emily</td>\n",
       "      <td>Intro to Python</td>\n",
       "      <td>Freshman</td>\n",
       "      <td>78.0</td>\n",
       "    </tr>\n",
       "    <tr>\n",
       "      <th>24</th>\n",
       "      <td>Jackson</td>\n",
       "      <td>Intro to Python</td>\n",
       "      <td>Freshman</td>\n",
       "      <td>88.0</td>\n",
       "    </tr>\n",
       "    <tr>\n",
       "      <th>25</th>\n",
       "      <td>Lucas</td>\n",
       "      <td>Intro to Python</td>\n",
       "      <td>Freshman</td>\n",
       "      <td>77.0</td>\n",
       "    </tr>\n",
       "    <tr>\n",
       "      <th>26</th>\n",
       "      <td>David</td>\n",
       "      <td>Intro to Python</td>\n",
       "      <td>Freshman</td>\n",
       "      <td>74.0</td>\n",
       "    </tr>\n",
       "    <tr>\n",
       "      <th>27</th>\n",
       "      <td>Joseph</td>\n",
       "      <td>Intro to Python</td>\n",
       "      <td>Freshman</td>\n",
       "      <td>93.0</td>\n",
       "    </tr>\n",
       "    <tr>\n",
       "      <th>28</th>\n",
       "      <td>Abigail</td>\n",
       "      <td>Intro to Python</td>\n",
       "      <td>Freshman</td>\n",
       "      <td>89.0</td>\n",
       "    </tr>\n",
       "    <tr>\n",
       "      <th>29</th>\n",
       "      <td>Avery</td>\n",
       "      <td>Intro to Python</td>\n",
       "      <td>Freshman</td>\n",
       "      <td>79.0</td>\n",
       "    </tr>\n",
       "    <tr>\n",
       "      <th>30</th>\n",
       "      <td>Anthony</td>\n",
       "      <td>Intro to Python</td>\n",
       "      <td>Freshman</td>\n",
       "      <td>84.0</td>\n",
       "    </tr>\n",
       "    <tr>\n",
       "      <th>31</th>\n",
       "      <td>Dylan</td>\n",
       "      <td>Intro to Python</td>\n",
       "      <td>Freshman</td>\n",
       "      <td>84.0</td>\n",
       "    </tr>\n",
       "    <tr>\n",
       "      <th>32</th>\n",
       "      <td>Andrew</td>\n",
       "      <td>Intro to Python</td>\n",
       "      <td>Freshman</td>\n",
       "      <td>94.0</td>\n",
       "    </tr>\n",
       "    <tr>\n",
       "      <th>33</th>\n",
       "      <td>Carter</td>\n",
       "      <td>Intro to Python</td>\n",
       "      <td>Freshman</td>\n",
       "      <td>95.0</td>\n",
       "    </tr>\n",
       "    <tr>\n",
       "      <th>34</th>\n",
       "      <td>Samuel</td>\n",
       "      <td>Intro to Python</td>\n",
       "      <td>Freshman</td>\n",
       "      <td>83.0</td>\n",
       "    </tr>\n",
       "    <tr>\n",
       "      <th>35</th>\n",
       "      <td>Gabriel</td>\n",
       "      <td>Intro to Python</td>\n",
       "      <td>Freshman</td>\n",
       "      <td>82.0</td>\n",
       "    </tr>\n",
       "    <tr>\n",
       "      <th>36</th>\n",
       "      <td>Joshua</td>\n",
       "      <td>Intro to Python</td>\n",
       "      <td>Freshman</td>\n",
       "      <td>71.0</td>\n",
       "    </tr>\n",
       "    <tr>\n",
       "      <th>37</th>\n",
       "      <td>John</td>\n",
       "      <td>Intro to Python</td>\n",
       "      <td>Freshman</td>\n",
       "      <td>50.0</td>\n",
       "    </tr>\n",
       "  </tbody>\n",
       "</table>\n",
       "</div>"
      ],
      "text/plain": [
       "      Student            Class      Year  Grade\n",
       "12  Alexander  Intro to Python  Freshman   85.0\n",
       "13      Logan  Intro to Python  Freshman   85.0\n",
       "14      James  Intro to Python  Freshman   82.0\n",
       "15     Daniel  Intro to Python  Freshman   85.0\n",
       "16     Elijah  Intro to Python  Freshman   85.0\n",
       "17   Benjamin  Intro to Python  Freshman   81.0\n",
       "18        Mia  Intro to Python  Freshman   80.0\n",
       "19        Mia           Python  Freshman   80.0\n",
       "20     Jayden  Intro to Python  Freshman   82.0\n",
       "21      Aiden  Intro to Python  Freshman   86.0\n",
       "22    Matthew  Intro to Python  Freshman   87.0\n",
       "23      Emily  Intro to Python  Freshman   78.0\n",
       "24    Jackson  Intro to Python  Freshman   88.0\n",
       "25      Lucas  Intro to Python  Freshman   77.0\n",
       "26      David  Intro to Python  Freshman   74.0\n",
       "27     Joseph  Intro to Python  Freshman   93.0\n",
       "28    Abigail  Intro to Python  Freshman   89.0\n",
       "29      Avery  Intro to Python  Freshman   79.0\n",
       "30    Anthony  Intro to Python  Freshman   84.0\n",
       "31      Dylan  Intro to Python  Freshman   84.0\n",
       "32     Andrew  Intro to Python  Freshman   94.0\n",
       "33     Carter  Intro to Python  Freshman   95.0\n",
       "34     Samuel  Intro to Python  Freshman   83.0\n",
       "35    Gabriel  Intro to Python  Freshman   82.0\n",
       "36     Joshua  Intro to Python  Freshman   71.0\n",
       "37       John  Intro to Python  Freshman   50.0"
      ]
     },
     "execution_count": 144,
     "metadata": {},
     "output_type": "execute_result"
    }
   ],
   "source": [
    "df[df.Class.isin(['Intro to Python','Python'])]"
   ]
  },
  {
   "cell_type": "code",
   "execution_count": 145,
   "id": "855ccac3",
   "metadata": {},
   "outputs": [
    {
     "data": {
      "text/plain": [
       "Class\n",
       "Intro to Python              25\n",
       "Intro to SQL                 20\n",
       "EDA                          13\n",
       "Freshman Seminar             12\n",
       "Exploratory Data Analysis    12\n",
       "Python                        1\n",
       "Name: count, dtype: int64"
      ]
     },
     "execution_count": 145,
     "metadata": {},
     "output_type": "execute_result"
    }
   ],
   "source": [
    "df.Class.value_counts()"
   ]
  },
  {
   "cell_type": "code",
   "execution_count": 146,
   "id": "add96e8a",
   "metadata": {},
   "outputs": [],
   "source": [
    "# #method1: using np.where()..it is logical condition based \n",
    "df.Class=np.where(df.Class=='EDA','Exploratory Data Analysis',df.Class)\n",
    "df.Class\n"
   ]
  },
  {
   "cell_type": "code",
   "execution_count": 147,
   "id": "bb5f1ef0",
   "metadata": {},
   "outputs": [
    {
     "data": {
      "text/plain": [
       "Class\n",
       "Intro to Python              25\n",
       "Intro to SQL                 20\n",
       "EDA                          13\n",
       "Freshman Seminar             12\n",
       "Exploratory Data Analysis    12\n",
       "Python                        1\n",
       "Name: count, dtype: int64"
      ]
     },
     "execution_count": 147,
     "metadata": {},
     "output_type": "execute_result"
    }
   ],
   "source": [
    "df.Class.value_counts()"
   ]
  },
  {
   "cell_type": "code",
   "execution_count": 148,
   "id": "c2c0eda9",
   "metadata": {},
   "outputs": [],
   "source": [
    "# #method1: using np.where()..it is logical condition based \n",
    "df.Class=np.where(df.Class=='Python','Intro to Python',df.Class)\n",
    "df.Class\n"
   ]
  },
  {
   "cell_type": "code",
   "execution_count": 149,
   "id": "b03766b6",
   "metadata": {},
   "outputs": [
    {
     "data": {
      "text/plain": [
       "Class\n",
       "Intro to Python              25\n",
       "Intro to SQL                 20\n",
       "EDA                          13\n",
       "Freshman Seminar             12\n",
       "Exploratory Data Analysis    12\n",
       "Python                        1\n",
       "Name: count, dtype: int64"
      ]
     },
     "execution_count": 149,
     "metadata": {},
     "output_type": "execute_result"
    }
   ],
   "source": [
    "df.Class.value_counts()"
   ]
  },
  {
   "cell_type": "code",
   "execution_count": 150,
   "id": "4d0ad9ad",
   "metadata": {},
   "outputs": [
    {
     "data": {
      "text/plain": [
       "0     Freshman Seminar\n",
       "1     Freshman Seminar\n",
       "2     Freshman Seminar\n",
       "3     Freshman Seminar\n",
       "4     Freshman Seminar\n",
       "            ...       \n",
       "81                 NaN\n",
       "82                 NaN\n",
       "83                 EDA\n",
       "84                 EDA\n",
       "85                 NaN\n",
       "Name: Class, Length: 86, dtype: object"
      ]
     },
     "execution_count": 150,
     "metadata": {},
     "output_type": "execute_result"
    }
   ],
   "source": [
    "df.Class"
   ]
  },
  {
   "cell_type": "code",
   "execution_count": 151,
   "id": "d3f9353b",
   "metadata": {},
   "outputs": [],
   "source": [
    "#method 2: using map (mapping values)\n",
    "class_mapping={'Intro to Python ':'Intro to Python ',\n",
    "               'Intro to SQL ':'Intro to SQL ',\n",
    "               'EDA':'Exploratory Data Analysis',\n",
    "               'Freshman Seminar':'Freshman Seminar',\n",
    "               'Exploratory Data Analysis': 'Exploratory Data Analysis',\n",
    "               'Python':'Intro to Python'\n",
    "}\n"
   ]
  },
  {
   "cell_type": "code",
   "execution_count": 152,
   "id": "305cba0c",
   "metadata": {},
   "outputs": [],
   "source": [
    "df.Class=df.Class.map(class_mapping)"
   ]
  },
  {
   "cell_type": "code",
   "execution_count": 153,
   "id": "5b9ff28d",
   "metadata": {},
   "outputs": [
    {
     "data": {
      "text/plain": [
       "Class\n",
       "Exploratory Data Analysis    25\n",
       "Freshman Seminar             12\n",
       "Intro to Python               1\n",
       "Name: count, dtype: int64"
      ]
     },
     "execution_count": 153,
     "metadata": {},
     "output_type": "execute_result"
    }
   ],
   "source": [
    "df.Class.value_counts()"
   ]
  },
  {
   "cell_type": "markdown",
   "id": "1d9325c1",
   "metadata": {},
   "source": [
    "## 3.Finding and Handling duplicates "
   ]
  },
  {
   "cell_type": "code",
   "execution_count": 5,
   "id": "d0c207f4",
   "metadata": {},
   "outputs": [
    {
     "data": {
      "text/html": [
       "<div>\n",
       "<style scoped>\n",
       "    .dataframe tbody tr th:only-of-type {\n",
       "        vertical-align: middle;\n",
       "    }\n",
       "\n",
       "    .dataframe tbody tr th {\n",
       "        vertical-align: top;\n",
       "    }\n",
       "\n",
       "    .dataframe thead th {\n",
       "        text-align: right;\n",
       "    }\n",
       "</style>\n",
       "<table border=\"1\" class=\"dataframe\">\n",
       "  <thead>\n",
       "    <tr style=\"text-align: right;\">\n",
       "      <th></th>\n",
       "      <th>Student</th>\n",
       "      <th>Class</th>\n",
       "      <th>Year</th>\n",
       "      <th>Grade</th>\n",
       "    </tr>\n",
       "  </thead>\n",
       "  <tbody>\n",
       "    <tr>\n",
       "      <th>0</th>\n",
       "      <td>Emma</td>\n",
       "      <td>Freshman Seminar</td>\n",
       "      <td>Freshman</td>\n",
       "      <td>86.0</td>\n",
       "    </tr>\n",
       "    <tr>\n",
       "      <th>1</th>\n",
       "      <td>Olivia</td>\n",
       "      <td>Freshman Seminar</td>\n",
       "      <td>Freshman</td>\n",
       "      <td>86.0</td>\n",
       "    </tr>\n",
       "    <tr>\n",
       "      <th>2</th>\n",
       "      <td>Noah</td>\n",
       "      <td>Freshman Seminar</td>\n",
       "      <td>Freshman</td>\n",
       "      <td>86.0</td>\n",
       "    </tr>\n",
       "    <tr>\n",
       "      <th>3</th>\n",
       "      <td>Sophia</td>\n",
       "      <td>Freshman Seminar</td>\n",
       "      <td>Freshman</td>\n",
       "      <td>87.0</td>\n",
       "    </tr>\n",
       "    <tr>\n",
       "      <th>4</th>\n",
       "      <td>Liam</td>\n",
       "      <td>Freshman Seminar</td>\n",
       "      <td>Freshman</td>\n",
       "      <td>90.0</td>\n",
       "    </tr>\n",
       "    <tr>\n",
       "      <th>...</th>\n",
       "      <td>...</td>\n",
       "      <td>...</td>\n",
       "      <td>...</td>\n",
       "      <td>...</td>\n",
       "    </tr>\n",
       "    <tr>\n",
       "      <th>81</th>\n",
       "      <td>NaN</td>\n",
       "      <td>NaN</td>\n",
       "      <td>NaN</td>\n",
       "      <td>NaN</td>\n",
       "    </tr>\n",
       "    <tr>\n",
       "      <th>82</th>\n",
       "      <td>Bennett</td>\n",
       "      <td>NaN</td>\n",
       "      <td>NaN</td>\n",
       "      <td>NaN</td>\n",
       "    </tr>\n",
       "    <tr>\n",
       "      <th>83</th>\n",
       "      <td>NaN</td>\n",
       "      <td>EDA</td>\n",
       "      <td>Junior</td>\n",
       "      <td>84.0</td>\n",
       "    </tr>\n",
       "    <tr>\n",
       "      <th>84</th>\n",
       "      <td>Gavin</td>\n",
       "      <td>EDA</td>\n",
       "      <td>Senior</td>\n",
       "      <td>NaN</td>\n",
       "    </tr>\n",
       "    <tr>\n",
       "      <th>85</th>\n",
       "      <td>Calvin</td>\n",
       "      <td>NaN</td>\n",
       "      <td>NaN</td>\n",
       "      <td>100.0</td>\n",
       "    </tr>\n",
       "  </tbody>\n",
       "</table>\n",
       "<p>86 rows × 4 columns</p>\n",
       "</div>"
      ],
      "text/plain": [
       "    Student             Class      Year  Grade\n",
       "0      Emma  Freshman Seminar  Freshman   86.0\n",
       "1    Olivia  Freshman Seminar  Freshman   86.0\n",
       "2      Noah  Freshman Seminar  Freshman   86.0\n",
       "3    Sophia  Freshman Seminar  Freshman   87.0\n",
       "4      Liam  Freshman Seminar  Freshman   90.0\n",
       "..      ...               ...       ...    ...\n",
       "81      NaN               NaN       NaN    NaN\n",
       "82  Bennett               NaN       NaN    NaN\n",
       "83      NaN               EDA    Junior   84.0\n",
       "84    Gavin               EDA    Senior    NaN\n",
       "85   Calvin               NaN       NaN  100.0\n",
       "\n",
       "[86 rows x 4 columns]"
      ]
     },
     "execution_count": 5,
     "metadata": {},
     "output_type": "execute_result"
    }
   ],
   "source": [
    "df=pd.read_excel('Student Grades.xlsx')\n",
    "df"
   ]
  },
  {
   "cell_type": "code",
   "execution_count": 6,
   "id": "cf1687ec",
   "metadata": {},
   "outputs": [
    {
     "data": {
      "text/html": [
       "<div>\n",
       "<style scoped>\n",
       "    .dataframe tbody tr th:only-of-type {\n",
       "        vertical-align: middle;\n",
       "    }\n",
       "\n",
       "    .dataframe tbody tr th {\n",
       "        vertical-align: top;\n",
       "    }\n",
       "\n",
       "    .dataframe thead th {\n",
       "        text-align: right;\n",
       "    }\n",
       "</style>\n",
       "<table border=\"1\" class=\"dataframe\">\n",
       "  <thead>\n",
       "    <tr style=\"text-align: right;\">\n",
       "      <th></th>\n",
       "      <th>Student</th>\n",
       "      <th>Class</th>\n",
       "      <th>Year</th>\n",
       "      <th>Grade</th>\n",
       "    </tr>\n",
       "  </thead>\n",
       "  <tbody>\n",
       "    <tr>\n",
       "      <th>43</th>\n",
       "      <td>Isaac</td>\n",
       "      <td>Intro to SQL</td>\n",
       "      <td>Sophomore</td>\n",
       "      <td>96.0</td>\n",
       "    </tr>\n",
       "    <tr>\n",
       "      <th>44</th>\n",
       "      <td>Isaac</td>\n",
       "      <td>Intro to SQL</td>\n",
       "      <td>Sophomore</td>\n",
       "      <td>96.0</td>\n",
       "    </tr>\n",
       "  </tbody>\n",
       "</table>\n",
       "</div>"
      ],
      "text/plain": [
       "   Student         Class       Year  Grade\n",
       "43   Isaac  Intro to SQL  Sophomore   96.0\n",
       "44   Isaac  Intro to SQL  Sophomore   96.0"
      ]
     },
     "execution_count": 6,
     "metadata": {},
     "output_type": "execute_result"
    }
   ],
   "source": [
    "df[df.duplicated()]"
   ]
  },
  {
   "cell_type": "code",
   "execution_count": 7,
   "id": "46fe9fca",
   "metadata": {},
   "outputs": [
    {
     "data": {
      "text/plain": [
       "2"
      ]
     },
     "execution_count": 7,
     "metadata": {},
     "output_type": "execute_result"
    }
   ],
   "source": [
    "df.duplicated().sum()"
   ]
  },
  {
   "cell_type": "code",
   "execution_count": 13,
   "id": "1a0dad53",
   "metadata": {},
   "outputs": [],
   "source": [
    "#remove duplicate rows\n",
    "df=df.drop_duplicates()"
   ]
  },
  {
   "cell_type": "code",
   "execution_count": 18,
   "id": "c34fada1",
   "metadata": {},
   "outputs": [],
   "source": [
    "# #we can use inplace to update df\n",
    "df.drop_duplicates(inplace=True)"
   ]
  },
  {
   "cell_type": "code",
   "execution_count": 15,
   "id": "05a36952",
   "metadata": {},
   "outputs": [
    {
     "data": {
      "text/plain": [
       "0"
      ]
     },
     "execution_count": 15,
     "metadata": {},
     "output_type": "execute_result"
    }
   ],
   "source": [
    "df.duplicated().sum()"
   ]
  },
  {
   "cell_type": "code",
   "execution_count": 16,
   "id": "90d5f6ba",
   "metadata": {},
   "outputs": [
    {
     "data": {
      "text/html": [
       "<div>\n",
       "<style scoped>\n",
       "    .dataframe tbody tr th:only-of-type {\n",
       "        vertical-align: middle;\n",
       "    }\n",
       "\n",
       "    .dataframe tbody tr th {\n",
       "        vertical-align: top;\n",
       "    }\n",
       "\n",
       "    .dataframe thead th {\n",
       "        text-align: right;\n",
       "    }\n",
       "</style>\n",
       "<table border=\"1\" class=\"dataframe\">\n",
       "  <thead>\n",
       "    <tr style=\"text-align: right;\">\n",
       "      <th></th>\n",
       "      <th>Student</th>\n",
       "      <th>Class</th>\n",
       "      <th>Year</th>\n",
       "      <th>Grade</th>\n",
       "    </tr>\n",
       "  </thead>\n",
       "  <tbody>\n",
       "  </tbody>\n",
       "</table>\n",
       "</div>"
      ],
      "text/plain": [
       "Empty DataFrame\n",
       "Columns: [Student, Class, Year, Grade]\n",
       "Index: []"
      ]
     },
     "execution_count": 16,
     "metadata": {},
     "output_type": "execute_result"
    }
   ],
   "source": [
    "df[df.duplicated()]"
   ]
  },
  {
   "cell_type": "code",
   "execution_count": 21,
   "id": "0cdf4e83",
   "metadata": {},
   "outputs": [
    {
     "data": {
      "text/html": [
       "<div>\n",
       "<style scoped>\n",
       "    .dataframe tbody tr th:only-of-type {\n",
       "        vertical-align: middle;\n",
       "    }\n",
       "\n",
       "    .dataframe tbody tr th {\n",
       "        vertical-align: top;\n",
       "    }\n",
       "\n",
       "    .dataframe thead th {\n",
       "        text-align: right;\n",
       "    }\n",
       "</style>\n",
       "<table border=\"1\" class=\"dataframe\">\n",
       "  <thead>\n",
       "    <tr style=\"text-align: right;\">\n",
       "      <th></th>\n",
       "      <th>Student</th>\n",
       "      <th>Class</th>\n",
       "      <th>Year</th>\n",
       "      <th>Grade</th>\n",
       "    </tr>\n",
       "  </thead>\n",
       "  <tbody>\n",
       "    <tr>\n",
       "      <th>40</th>\n",
       "      <td>Madison</td>\n",
       "      <td>Intro to SQL</td>\n",
       "      <td>Sophomore</td>\n",
       "      <td>71.0</td>\n",
       "    </tr>\n",
       "    <tr>\n",
       "      <th>41</th>\n",
       "      <td>Charlotte</td>\n",
       "      <td>Intro to SQL</td>\n",
       "      <td>Sophomore</td>\n",
       "      <td>92.0</td>\n",
       "    </tr>\n",
       "    <tr>\n",
       "      <th>42</th>\n",
       "      <td>Isaac</td>\n",
       "      <td>Intro to SQL</td>\n",
       "      <td>Sophomore</td>\n",
       "      <td>96.0</td>\n",
       "    </tr>\n",
       "    <tr>\n",
       "      <th>45</th>\n",
       "      <td>Harper</td>\n",
       "      <td>Intro to SQL</td>\n",
       "      <td>Sophomore</td>\n",
       "      <td>93.0</td>\n",
       "    </tr>\n",
       "    <tr>\n",
       "      <th>46</th>\n",
       "      <td>Ryan</td>\n",
       "      <td>Intro to SQL</td>\n",
       "      <td>Sophomore</td>\n",
       "      <td>76.0</td>\n",
       "    </tr>\n",
       "  </tbody>\n",
       "</table>\n",
       "</div>"
      ],
      "text/plain": [
       "      Student         Class       Year  Grade\n",
       "40    Madison  Intro to SQL  Sophomore   71.0\n",
       "41  Charlotte  Intro to SQL  Sophomore   92.0\n",
       "42      Isaac  Intro to SQL  Sophomore   96.0\n",
       "45     Harper  Intro to SQL  Sophomore   93.0\n",
       "46       Ryan  Intro to SQL  Sophomore   76.0"
      ]
     },
     "execution_count": 21,
     "metadata": {},
     "output_type": "execute_result"
    }
   ],
   "source": [
    "#after removing duplicates wee notice indexes are implaced so we have to handle them also \n",
    "df.iloc[40:45] #we can see duplicates are at 43 and 44 "
   ]
  },
  {
   "cell_type": "code",
   "execution_count": 25,
   "id": "fd212a02",
   "metadata": {},
   "outputs": [
    {
     "data": {
      "text/html": [
       "<div>\n",
       "<style scoped>\n",
       "    .dataframe tbody tr th:only-of-type {\n",
       "        vertical-align: middle;\n",
       "    }\n",
       "\n",
       "    .dataframe tbody tr th {\n",
       "        vertical-align: top;\n",
       "    }\n",
       "\n",
       "    .dataframe thead th {\n",
       "        text-align: right;\n",
       "    }\n",
       "</style>\n",
       "<table border=\"1\" class=\"dataframe\">\n",
       "  <thead>\n",
       "    <tr style=\"text-align: right;\">\n",
       "      <th></th>\n",
       "      <th>Student</th>\n",
       "      <th>Class</th>\n",
       "      <th>Year</th>\n",
       "      <th>Grade</th>\n",
       "    </tr>\n",
       "  </thead>\n",
       "  <tbody>\n",
       "    <tr>\n",
       "      <th>40</th>\n",
       "      <td>Madison</td>\n",
       "      <td>Intro to SQL</td>\n",
       "      <td>Sophomore</td>\n",
       "      <td>71.0</td>\n",
       "    </tr>\n",
       "    <tr>\n",
       "      <th>41</th>\n",
       "      <td>Charlotte</td>\n",
       "      <td>Intro to SQL</td>\n",
       "      <td>Sophomore</td>\n",
       "      <td>92.0</td>\n",
       "    </tr>\n",
       "    <tr>\n",
       "      <th>42</th>\n",
       "      <td>Isaac</td>\n",
       "      <td>Intro to SQL</td>\n",
       "      <td>Sophomore</td>\n",
       "      <td>96.0</td>\n",
       "    </tr>\n",
       "    <tr>\n",
       "      <th>43</th>\n",
       "      <td>Harper</td>\n",
       "      <td>Intro to SQL</td>\n",
       "      <td>Sophomore</td>\n",
       "      <td>93.0</td>\n",
       "    </tr>\n",
       "    <tr>\n",
       "      <th>44</th>\n",
       "      <td>Ryan</td>\n",
       "      <td>Intro to SQL</td>\n",
       "      <td>Sophomore</td>\n",
       "      <td>76.0</td>\n",
       "    </tr>\n",
       "  </tbody>\n",
       "</table>\n",
       "</div>"
      ],
      "text/plain": [
       "      Student         Class       Year  Grade\n",
       "40    Madison  Intro to SQL  Sophomore   71.0\n",
       "41  Charlotte  Intro to SQL  Sophomore   92.0\n",
       "42      Isaac  Intro to SQL  Sophomore   96.0\n",
       "43     Harper  Intro to SQL  Sophomore   93.0\n",
       "44       Ryan  Intro to SQL  Sophomore   76.0"
      ]
     },
     "execution_count": 25,
     "metadata": {},
     "output_type": "execute_result"
    }
   ],
   "source": [
    "#lets arrange the indexes\n",
    "# df.reset_index() #this will create new col \n",
    "df.reset_index(drop=True,inplace=True) #the use of drop will not create new col\n",
    "df.iloc[40:45]"
   ]
  },
  {
   "cell_type": "markdown",
   "id": "76f2deda",
   "metadata": {},
   "source": [
    "## 4.Identifying Outliers and handling "
   ]
  },
  {
   "cell_type": "markdown",
   "id": "0273faf8",
   "metadata": {},
   "source": [
    "Identifying with plots"
   ]
  },
  {
   "cell_type": "code",
   "execution_count": 4,
   "id": "d5e1464e",
   "metadata": {},
   "outputs": [
    {
     "data": {
      "text/html": [
       "<div>\n",
       "<style scoped>\n",
       "    .dataframe tbody tr th:only-of-type {\n",
       "        vertical-align: middle;\n",
       "    }\n",
       "\n",
       "    .dataframe tbody tr th {\n",
       "        vertical-align: top;\n",
       "    }\n",
       "\n",
       "    .dataframe thead th {\n",
       "        text-align: right;\n",
       "    }\n",
       "</style>\n",
       "<table border=\"1\" class=\"dataframe\">\n",
       "  <thead>\n",
       "    <tr style=\"text-align: right;\">\n",
       "      <th></th>\n",
       "      <th>Student</th>\n",
       "      <th>Class</th>\n",
       "      <th>Year</th>\n",
       "      <th>Grade</th>\n",
       "    </tr>\n",
       "  </thead>\n",
       "  <tbody>\n",
       "    <tr>\n",
       "      <th>0</th>\n",
       "      <td>Emma</td>\n",
       "      <td>Freshman Seminar</td>\n",
       "      <td>Freshman</td>\n",
       "      <td>86.0</td>\n",
       "    </tr>\n",
       "    <tr>\n",
       "      <th>1</th>\n",
       "      <td>Olivia</td>\n",
       "      <td>Freshman Seminar</td>\n",
       "      <td>Freshman</td>\n",
       "      <td>86.0</td>\n",
       "    </tr>\n",
       "    <tr>\n",
       "      <th>2</th>\n",
       "      <td>Noah</td>\n",
       "      <td>Freshman Seminar</td>\n",
       "      <td>Freshman</td>\n",
       "      <td>86.0</td>\n",
       "    </tr>\n",
       "    <tr>\n",
       "      <th>3</th>\n",
       "      <td>Sophia</td>\n",
       "      <td>Freshman Seminar</td>\n",
       "      <td>Freshman</td>\n",
       "      <td>87.0</td>\n",
       "    </tr>\n",
       "    <tr>\n",
       "      <th>4</th>\n",
       "      <td>Liam</td>\n",
       "      <td>Freshman Seminar</td>\n",
       "      <td>Freshman</td>\n",
       "      <td>90.0</td>\n",
       "    </tr>\n",
       "    <tr>\n",
       "      <th>...</th>\n",
       "      <td>...</td>\n",
       "      <td>...</td>\n",
       "      <td>...</td>\n",
       "      <td>...</td>\n",
       "    </tr>\n",
       "    <tr>\n",
       "      <th>81</th>\n",
       "      <td>NaN</td>\n",
       "      <td>NaN</td>\n",
       "      <td>NaN</td>\n",
       "      <td>NaN</td>\n",
       "    </tr>\n",
       "    <tr>\n",
       "      <th>82</th>\n",
       "      <td>Bennett</td>\n",
       "      <td>NaN</td>\n",
       "      <td>NaN</td>\n",
       "      <td>NaN</td>\n",
       "    </tr>\n",
       "    <tr>\n",
       "      <th>83</th>\n",
       "      <td>NaN</td>\n",
       "      <td>EDA</td>\n",
       "      <td>Junior</td>\n",
       "      <td>84.0</td>\n",
       "    </tr>\n",
       "    <tr>\n",
       "      <th>84</th>\n",
       "      <td>Gavin</td>\n",
       "      <td>EDA</td>\n",
       "      <td>Senior</td>\n",
       "      <td>NaN</td>\n",
       "    </tr>\n",
       "    <tr>\n",
       "      <th>85</th>\n",
       "      <td>Calvin</td>\n",
       "      <td>NaN</td>\n",
       "      <td>NaN</td>\n",
       "      <td>100.0</td>\n",
       "    </tr>\n",
       "  </tbody>\n",
       "</table>\n",
       "<p>86 rows × 4 columns</p>\n",
       "</div>"
      ],
      "text/plain": [
       "    Student             Class      Year  Grade\n",
       "0      Emma  Freshman Seminar  Freshman   86.0\n",
       "1    Olivia  Freshman Seminar  Freshman   86.0\n",
       "2      Noah  Freshman Seminar  Freshman   86.0\n",
       "3    Sophia  Freshman Seminar  Freshman   87.0\n",
       "4      Liam  Freshman Seminar  Freshman   90.0\n",
       "..      ...               ...       ...    ...\n",
       "81      NaN               NaN       NaN    NaN\n",
       "82  Bennett               NaN       NaN    NaN\n",
       "83      NaN               EDA    Junior   84.0\n",
       "84    Gavin               EDA    Senior    NaN\n",
       "85   Calvin               NaN       NaN  100.0\n",
       "\n",
       "[86 rows x 4 columns]"
      ]
     },
     "execution_count": 4,
     "metadata": {},
     "output_type": "execute_result"
    }
   ],
   "source": [
    "df1=pd.read_excel('Student Grades.xlsx')\n",
    "df1"
   ]
  },
  {
   "cell_type": "code",
   "execution_count": 35,
   "id": "2712b98e",
   "metadata": {},
   "outputs": [
    {
     "data": {
      "text/plain": [
       "array([[<Axes: title={'center': 'Grade'}>]], dtype=object)"
      ]
     },
     "execution_count": 35,
     "metadata": {},
     "output_type": "execute_result"
    },
    {
     "data": {
      "image/png": "[encoded data removed]",
      "text/plain": [
       "<Figure size 640x480 with 1 Axes>"
      ]
     },
     "metadata": {},
     "output_type": "display_data"
    }
   ],
   "source": [
    "df1.hist() #1. histogram"
   ]
  },
  {
   "cell_type": "code",
   "execution_count": 37,
   "id": "fb5e14d4",
   "metadata": {},
   "outputs": [
    {
     "data": {
      "text/plain": [
       "155.0"
      ]
     },
     "execution_count": 37,
     "metadata": {},
     "output_type": "execute_result"
    }
   ],
   "source": [
    "df1.Grade.max()-df1.Grade.min()"
   ]
  },
  {
   "cell_type": "code",
   "execution_count": 39,
   "id": "2d993955",
   "metadata": {},
   "outputs": [
    {
     "data": {
      "text/plain": [
       "array([[<Axes: title={'center': 'Grade'}>]], dtype=object)"
      ]
     },
     "execution_count": 39,
     "metadata": {},
     "output_type": "execute_result"
    },
    {
     "data": {
      "image/png": "[encoded data removed]",
      "text/plain": [
       "<Figure size 640x480 with 1 Axes>"
      ]
     },
     "metadata": {},
     "output_type": "display_data"
    }
   ],
   "source": [
    "df1.hist(bins=155)"
   ]
  },
  {
   "cell_type": "code",
   "execution_count": 42,
   "id": "db0962b1",
   "metadata": {},
   "outputs": [
    {
     "data": {
      "image/png": "[encoded data removed]",
      "text/plain": [
       "<Figure size 640x480 with 1 Axes>"
      ]
     },
     "metadata": {},
     "output_type": "display_data"
    }
   ],
   "source": [
    "#2.seaborn\n",
    "import seaborn as sns\n",
    "sns.histplot(df1);\n",
    "#we can observe there is outliers in the range between 40-60"
   ]
  },
  {
   "cell_type": "code",
   "execution_count": 43,
   "id": "5e05bf3d",
   "metadata": {},
   "outputs": [
    {
     "data": {
      "text/plain": [
       "<Axes: ylabel='Count'>"
      ]
     },
     "execution_count": 43,
     "metadata": {},
     "output_type": "execute_result"
    },
    {
     "data": {
      "image/png": "[encoded data removed]",
      "text/plain": [
       "<Figure size 640x480 with 1 Axes>"
      ]
     },
     "metadata": {},
     "output_type": "display_data"
    }
   ],
   "source": [
    "sns.histplot(df1,binwidth=1)"
   ]
  },
  {
   "cell_type": "code",
   "execution_count": 44,
   "id": "12fbffa3",
   "metadata": {},
   "outputs": [
    {
     "data": {
      "text/plain": [
       "<Axes: xlabel='Grade'>"
      ]
     },
     "execution_count": 44,
     "metadata": {},
     "output_type": "execute_result"
    },
    {
     "data": {
      "image/png": "[encoded data removed]",
      "text/plain": [
       "<Figure size 640x480 with 1 Axes>"
      ]
     },
     "metadata": {},
     "output_type": "display_data"
    }
   ],
   "source": [
    "sns.boxplot(x=df1.Grade)"
   ]
  },
  {
   "cell_type": "markdown",
   "id": "b3948a3c",
   "metadata": {},
   "source": [
    "lets calculate quantile"
   ]
  },
  {
   "cell_type": "code",
   "execution_count": 45,
   "id": "a17d08f8",
   "metadata": {},
   "outputs": [],
   "source": [
    "import numpy as np"
   ]
  },
  {
   "cell_type": "code",
   "execution_count": 46,
   "id": "080658d2",
   "metadata": {},
   "outputs": [],
   "source": [
    "q25,q50,q75=np.percentile(df.Grade,(25,50,75))"
   ]
  },
  {
   "cell_type": "code",
   "execution_count": 51,
   "id": "1cf3a180",
   "metadata": {},
   "outputs": [
    {
     "data": {
      "text/plain": [
       "nan"
      ]
     },
     "execution_count": 51,
     "metadata": {},
     "output_type": "execute_result"
    }
   ],
   "source": [
    "Iqr=q75-q25\n",
    "Iqr"
   ]
  },
  {
   "cell_type": "code",
   "execution_count": 48,
   "id": "8547598e",
   "metadata": {},
   "outputs": [],
   "source": [
    "min_val=q25-1.5*Iqr"
   ]
  },
  {
   "cell_type": "code",
   "execution_count": 49,
   "id": "51f76853",
   "metadata": {},
   "outputs": [],
   "source": [
    "max_val=q75+1.5*Iqr"
   ]
  },
  {
   "cell_type": "code",
   "execution_count": 50,
   "id": "bdbcd447",
   "metadata": {},
   "outputs": [
    {
     "data": {
      "text/plain": [
       "(nan, nan, nan, nan, nan)"
      ]
     },
     "execution_count": 50,
     "metadata": {},
     "output_type": "execute_result"
    }
   ],
   "source": [
    "min_val,q25,q50,q75,max_val"
   ]
  },
  {
   "cell_type": "markdown",
   "id": "56efa3cb",
   "metadata": {},
   "source": [
    "As we take completly take new dataset without cleaning for null values that's why we are getting this, first clean dataset then apply this concept of outliers"
   ]
  },
  {
   "cell_type": "markdown",
   "id": "19bcb42f",
   "metadata": {},
   "source": [
    "### 3.standard deviation\n",
    "usually use for normally distributed data\n"
   ]
  },
  {
   "cell_type": "code",
   "execution_count": 56,
   "id": "f3643e7f",
   "metadata": {},
   "outputs": [],
   "source": [
    "mean_val=np.mean(df1.Grade)\n",
    "sd=np.std(df1.Grade)"
   ]
  },
  {
   "cell_type": "code",
   "execution_count": 57,
   "id": "43a37269",
   "metadata": {},
   "outputs": [
    {
     "data": {
      "text/plain": [
       "(85.70731707317073, 15.432376328465006)"
      ]
     },
     "execution_count": 57,
     "metadata": {},
     "output_type": "execute_result"
    }
   ],
   "source": [
    "mean_val,sd"
   ]
  },
  {
   "cell_type": "code",
   "execution_count": 61,
   "id": "f0a3b6ee",
   "metadata": {},
   "outputs": [
    {
     "data": {
      "text/plain": [
       "[200.0]"
      ]
     },
     "execution_count": 61,
     "metadata": {},
     "output_type": "execute_result"
    }
   ],
   "source": [
    "#search for outliers\n",
    "[i for i in df1.Grade if(i<mean_val-3*sd)or (i>mean_val+3*sd)]"
   ]
  },
  {
   "cell_type": "code",
   "execution_count": 62,
   "id": "9351ddcd",
   "metadata": {},
   "outputs": [
    {
     "data": {
      "text/plain": [
       "[50.0, 45.0, 200.0]"
      ]
     },
     "execution_count": 62,
     "metadata": {},
     "output_type": "execute_result"
    }
   ],
   "source": [
    "[i for i in df1.Grade if(i<mean_val-2*sd)or (i>mean_val+2*sd)]"
   ]
  },
  {
   "cell_type": "code",
   "execution_count": 63,
   "id": "8e018e29",
   "metadata": {},
   "outputs": [
    {
     "data": {
      "text/plain": [
       "[200.0]"
      ]
     },
     "execution_count": 63,
     "metadata": {},
     "output_type": "execute_result"
    }
   ],
   "source": [
    "[i for i in df1.Grade if(i<mean_val-4*sd)or (i>mean_val+4*sd)]"
   ]
  },
  {
   "cell_type": "code",
   "execution_count": 65,
   "id": "70dc3169",
   "metadata": {},
   "outputs": [
    {
     "data": {
      "text/plain": [
       "56     45.0\n",
       "37     50.0\n",
       "69     64.0\n",
       "40     71.0\n",
       "36     71.0\n",
       "      ...  \n",
       "60    200.0\n",
       "62      NaN\n",
       "81      NaN\n",
       "82      NaN\n",
       "84      NaN\n",
       "Name: Grade, Length: 86, dtype: float64"
      ]
     },
     "execution_count": 65,
     "metadata": {},
     "output_type": "execute_result"
    }
   ],
   "source": [
    "df1.Grade.sort_values() # clearlyl see 200 is an outlier"
   ]
  },
  {
   "cell_type": "markdown",
   "id": "0f24b557",
   "metadata": {},
   "source": [
    "#### Handling outliers"
   ]
  },
  {
   "cell_type": "markdown",
   "id": "0c824d4f",
   "metadata": {},
   "source": [
    "Like with missing data, there are multiple ways to handle outliers:\n",
    "\n",
    "Keep outliers\n",
    "\n",
    "Remove an entire row or column with outliers\n",
    "\n",
    "Impute outliers with NaN or a substitute like the average, mode, max, etc.\n",
    "\n",
    "Resolve outliers based on your domain expertise"
   ]
  },
  {
   "cell_type": "code",
   "execution_count": 5,
   "id": "589d9137",
   "metadata": {},
   "outputs": [
    {
     "data": {
      "text/html": [
       "<div>\n",
       "<style scoped>\n",
       "    .dataframe tbody tr th:only-of-type {\n",
       "        vertical-align: middle;\n",
       "    }\n",
       "\n",
       "    .dataframe tbody tr th {\n",
       "        vertical-align: top;\n",
       "    }\n",
       "\n",
       "    .dataframe thead th {\n",
       "        text-align: right;\n",
       "    }\n",
       "</style>\n",
       "<table border=\"1\" class=\"dataframe\">\n",
       "  <thead>\n",
       "    <tr style=\"text-align: right;\">\n",
       "      <th></th>\n",
       "      <th>Student</th>\n",
       "      <th>Class</th>\n",
       "      <th>Year</th>\n",
       "      <th>Grade</th>\n",
       "    </tr>\n",
       "  </thead>\n",
       "  <tbody>\n",
       "    <tr>\n",
       "      <th>37</th>\n",
       "      <td>John</td>\n",
       "      <td>Intro to Python</td>\n",
       "      <td>Freshman</td>\n",
       "      <td>50.0</td>\n",
       "    </tr>\n",
       "    <tr>\n",
       "      <th>56</th>\n",
       "      <td>Wyatt</td>\n",
       "      <td>Intro to SQL</td>\n",
       "      <td>Sophomore</td>\n",
       "      <td>45.0</td>\n",
       "    </tr>\n",
       "  </tbody>\n",
       "</table>\n",
       "</div>"
      ],
      "text/plain": [
       "   Student            Class       Year  Grade\n",
       "37    John  Intro to Python   Freshman   50.0\n",
       "56   Wyatt     Intro to SQL  Sophomore   45.0"
      ]
     },
     "execution_count": 5,
     "metadata": {},
     "output_type": "execute_result"
    }
   ],
   "source": [
    "#1.keep outliers as it is in dataset\n",
    "df1[df1.Grade<60]"
   ]
  },
  {
   "cell_type": "code",
   "execution_count": 9,
   "id": "8ef36ffd",
   "metadata": {},
   "outputs": [
    {
     "data": {
      "text/plain": [
       "(86, 4)"
      ]
     },
     "execution_count": 9,
     "metadata": {},
     "output_type": "execute_result"
    }
   ],
   "source": [
    "df1.shape"
   ]
  },
  {
   "cell_type": "code",
   "execution_count": 8,
   "id": "3cbb3e7e",
   "metadata": {},
   "outputs": [
    {
     "data": {
      "text/html": [
       "<div>\n",
       "<style scoped>\n",
       "    .dataframe tbody tr th:only-of-type {\n",
       "        vertical-align: middle;\n",
       "    }\n",
       "\n",
       "    .dataframe tbody tr th {\n",
       "        vertical-align: top;\n",
       "    }\n",
       "\n",
       "    .dataframe thead th {\n",
       "        text-align: right;\n",
       "    }\n",
       "</style>\n",
       "<table border=\"1\" class=\"dataframe\">\n",
       "  <thead>\n",
       "    <tr style=\"text-align: right;\">\n",
       "      <th></th>\n",
       "      <th>Student</th>\n",
       "      <th>Class</th>\n",
       "      <th>Year</th>\n",
       "      <th>Grade</th>\n",
       "    </tr>\n",
       "  </thead>\n",
       "  <tbody>\n",
       "    <tr>\n",
       "      <th>0</th>\n",
       "      <td>Emma</td>\n",
       "      <td>Freshman Seminar</td>\n",
       "      <td>Freshman</td>\n",
       "      <td>86.0</td>\n",
       "    </tr>\n",
       "    <tr>\n",
       "      <th>1</th>\n",
       "      <td>Olivia</td>\n",
       "      <td>Freshman Seminar</td>\n",
       "      <td>Freshman</td>\n",
       "      <td>86.0</td>\n",
       "    </tr>\n",
       "    <tr>\n",
       "      <th>2</th>\n",
       "      <td>Noah</td>\n",
       "      <td>Freshman Seminar</td>\n",
       "      <td>Freshman</td>\n",
       "      <td>86.0</td>\n",
       "    </tr>\n",
       "    <tr>\n",
       "      <th>3</th>\n",
       "      <td>Sophia</td>\n",
       "      <td>Freshman Seminar</td>\n",
       "      <td>Freshman</td>\n",
       "      <td>87.0</td>\n",
       "    </tr>\n",
       "    <tr>\n",
       "      <th>4</th>\n",
       "      <td>Liam</td>\n",
       "      <td>Freshman Seminar</td>\n",
       "      <td>Freshman</td>\n",
       "      <td>90.0</td>\n",
       "    </tr>\n",
       "    <tr>\n",
       "      <th>...</th>\n",
       "      <td>...</td>\n",
       "      <td>...</td>\n",
       "      <td>...</td>\n",
       "      <td>...</td>\n",
       "    </tr>\n",
       "    <tr>\n",
       "      <th>81</th>\n",
       "      <td>NaN</td>\n",
       "      <td>NaN</td>\n",
       "      <td>NaN</td>\n",
       "      <td>NaN</td>\n",
       "    </tr>\n",
       "    <tr>\n",
       "      <th>82</th>\n",
       "      <td>Bennett</td>\n",
       "      <td>NaN</td>\n",
       "      <td>NaN</td>\n",
       "      <td>NaN</td>\n",
       "    </tr>\n",
       "    <tr>\n",
       "      <th>83</th>\n",
       "      <td>NaN</td>\n",
       "      <td>EDA</td>\n",
       "      <td>Junior</td>\n",
       "      <td>84.0</td>\n",
       "    </tr>\n",
       "    <tr>\n",
       "      <th>84</th>\n",
       "      <td>Gavin</td>\n",
       "      <td>EDA</td>\n",
       "      <td>Senior</td>\n",
       "      <td>NaN</td>\n",
       "    </tr>\n",
       "    <tr>\n",
       "      <th>85</th>\n",
       "      <td>Calvin</td>\n",
       "      <td>NaN</td>\n",
       "      <td>NaN</td>\n",
       "      <td>100.0</td>\n",
       "    </tr>\n",
       "  </tbody>\n",
       "</table>\n",
       "<p>84 rows × 4 columns</p>\n",
       "</div>"
      ],
      "text/plain": [
       "    Student             Class      Year  Grade\n",
       "0      Emma  Freshman Seminar  Freshman   86.0\n",
       "1    Olivia  Freshman Seminar  Freshman   86.0\n",
       "2      Noah  Freshman Seminar  Freshman   86.0\n",
       "3    Sophia  Freshman Seminar  Freshman   87.0\n",
       "4      Liam  Freshman Seminar  Freshman   90.0\n",
       "..      ...               ...       ...    ...\n",
       "81      NaN               NaN       NaN    NaN\n",
       "82  Bennett               NaN       NaN    NaN\n",
       "83      NaN               EDA    Junior   84.0\n",
       "84    Gavin               EDA    Senior    NaN\n",
       "85   Calvin               NaN       NaN  100.0\n",
       "\n",
       "[84 rows x 4 columns]"
      ]
     },
     "execution_count": 8,
     "metadata": {},
     "output_type": "execute_result"
    }
   ],
   "source": [
    "#2.drop rows containg outliers\n",
    "df1.drop([37,56])"
   ]
  },
  {
   "cell_type": "code",
   "execution_count": 14,
   "id": "6e7beed0",
   "metadata": {},
   "outputs": [
    {
     "data": {
      "text/plain": [
       "64.0"
      ]
     },
     "execution_count": 14,
     "metadata": {},
     "output_type": "execute_result"
    }
   ],
   "source": [
    "#3. replcae outliers with minimum Grade(min value in dataset)\n",
    "min_grade=df1[df1.Grade>=60].Grade.min()\n",
    "min_grade"
   ]
  },
  {
   "cell_type": "code",
   "execution_count": 8,
   "id": "37f1f7f5",
   "metadata": {},
   "outputs": [],
   "source": [
    "import numpy as np"
   ]
  },
  {
   "cell_type": "code",
   "execution_count": 21,
   "id": "139659ab",
   "metadata": {},
   "outputs": [
    {
     "data": {
      "text/plain": [
       "0      86.0\n",
       "1      86.0\n",
       "2      86.0\n",
       "3      87.0\n",
       "4      90.0\n",
       "      ...  \n",
       "81      NaN\n",
       "82      NaN\n",
       "83     84.0\n",
       "84      NaN\n",
       "85    100.0\n",
       "Name: Grade, Length: 86, dtype: float64"
      ]
     },
     "execution_count": 21,
     "metadata": {},
     "output_type": "execute_result"
    }
   ],
   "source": [
    "df1.Grade=np.where(df1.Grade<60,min_grade,df1.Grade)\n",
    "df1.Grade"
   ]
  },
  {
   "cell_type": "code",
   "execution_count": 27,
   "id": "521a4efb",
   "metadata": {},
   "outputs": [
    {
     "data": {
      "text/html": [
       "<div>\n",
       "<style scoped>\n",
       "    .dataframe tbody tr th:only-of-type {\n",
       "        vertical-align: middle;\n",
       "    }\n",
       "\n",
       "    .dataframe tbody tr th {\n",
       "        vertical-align: top;\n",
       "    }\n",
       "\n",
       "    .dataframe thead th {\n",
       "        text-align: right;\n",
       "    }\n",
       "</style>\n",
       "<table border=\"1\" class=\"dataframe\">\n",
       "  <thead>\n",
       "    <tr style=\"text-align: right;\">\n",
       "      <th></th>\n",
       "      <th>Student</th>\n",
       "      <th>Class</th>\n",
       "      <th>Year</th>\n",
       "      <th>Grade</th>\n",
       "    </tr>\n",
       "  </thead>\n",
       "  <tbody>\n",
       "    <tr>\n",
       "      <th>37</th>\n",
       "      <td>John</td>\n",
       "      <td>Intro to Python</td>\n",
       "      <td>Freshman</td>\n",
       "      <td>64.0</td>\n",
       "    </tr>\n",
       "    <tr>\n",
       "      <th>56</th>\n",
       "      <td>Wyatt</td>\n",
       "      <td>Intro to SQL</td>\n",
       "      <td>Sophomore</td>\n",
       "      <td>64.0</td>\n",
       "    </tr>\n",
       "  </tbody>\n",
       "</table>\n",
       "</div>"
      ],
      "text/plain": [
       "   Student            Class       Year  Grade\n",
       "37    John  Intro to Python   Freshman   64.0\n",
       "56   Wyatt     Intro to SQL  Sophomore   64.0"
      ]
     },
     "execution_count": 27,
     "metadata": {},
     "output_type": "execute_result"
    }
   ],
   "source": [
    "#coonfirm\n",
    "# df1[df1.Grade<60]\n",
    "df1.loc[[37,56]]"
   ]
  },
  {
   "cell_type": "markdown",
   "id": "110de242",
   "metadata": {},
   "source": [
    "## 5. Creating new col(text,numeric,datetime)"
   ]
  },
  {
   "cell_type": "markdown",
   "id": "dc3a8f79",
   "metadata": {},
   "source": [
    "### a.create new numeric col\n",
    "Claculating percentange,applying conditional cal"
   ]
  },
  {
   "cell_type": "code",
   "execution_count": 2,
   "id": "f84b8468",
   "metadata": {},
   "outputs": [
    {
     "data": {
      "text/html": [
       "<div>\n",
       "<style scoped>\n",
       "    .dataframe tbody tr th:only-of-type {\n",
       "        vertical-align: middle;\n",
       "    }\n",
       "\n",
       "    .dataframe tbody tr th {\n",
       "        vertical-align: top;\n",
       "    }\n",
       "\n",
       "    .dataframe thead th {\n",
       "        text-align: right;\n",
       "    }\n",
       "</style>\n",
       "<table border=\"1\" class=\"dataframe\">\n",
       "  <thead>\n",
       "    <tr style=\"text-align: right;\">\n",
       "      <th></th>\n",
       "      <th>Product_ID</th>\n",
       "      <th>Category</th>\n",
       "      <th>Item</th>\n",
       "      <th>Price_Dollars</th>\n",
       "      <th>Inventory</th>\n",
       "      <th>Last_Updated</th>\n",
       "      <th>Next_Scheduled_Shipment</th>\n",
       "    </tr>\n",
       "  </thead>\n",
       "  <tbody>\n",
       "    <tr>\n",
       "      <th>0</th>\n",
       "      <td>P100010</td>\n",
       "      <td>Produce: Fruit</td>\n",
       "      <td>Apple</td>\n",
       "      <td>1.50</td>\n",
       "      <td>349</td>\n",
       "      <td>2023-06-12 15:35:00</td>\n",
       "      <td>2023-06-15</td>\n",
       "    </tr>\n",
       "    <tr>\n",
       "      <th>1</th>\n",
       "      <td>P100011</td>\n",
       "      <td>Produce: Fruit</td>\n",
       "      <td>Banana</td>\n",
       "      <td>0.40</td>\n",
       "      <td>500</td>\n",
       "      <td>2023-06-12 18:30:00</td>\n",
       "      <td>2023-06-15</td>\n",
       "    </tr>\n",
       "    <tr>\n",
       "      <th>2</th>\n",
       "      <td>P100012</td>\n",
       "      <td>Produce: Fruit</td>\n",
       "      <td>Grapes</td>\n",
       "      <td>4.00</td>\n",
       "      <td>200</td>\n",
       "      <td>2023-06-12 17:22:00</td>\n",
       "      <td>2023-06-15</td>\n",
       "    </tr>\n",
       "    <tr>\n",
       "      <th>3</th>\n",
       "      <td>P100013</td>\n",
       "      <td>Produce: Fruit</td>\n",
       "      <td>Grapefruit</td>\n",
       "      <td>0.99</td>\n",
       "      <td>50</td>\n",
       "      <td>2023-06-12 16:29:00</td>\n",
       "      <td>2023-06-15</td>\n",
       "    </tr>\n",
       "    <tr>\n",
       "      <th>4</th>\n",
       "      <td>P100014</td>\n",
       "      <td>Produce: Fruit</td>\n",
       "      <td>Organic Strawberries</td>\n",
       "      <td>3.99</td>\n",
       "      <td>148</td>\n",
       "      <td>2023-06-12 18:10:00</td>\n",
       "      <td>2023-06-15</td>\n",
       "    </tr>\n",
       "  </tbody>\n",
       "</table>\n",
       "</div>"
      ],
      "text/plain": [
       "  Product_ID        Category                  Item  Price_Dollars  Inventory  \\\n",
       "0    P100010  Produce: Fruit                 Apple           1.50        349   \n",
       "1    P100011  Produce: Fruit                Banana           0.40        500   \n",
       "2    P100012  Produce: Fruit                Grapes           4.00        200   \n",
       "3    P100013  Produce: Fruit            Grapefruit           0.99         50   \n",
       "4    P100014  Produce: Fruit  Organic Strawberries           3.99        148   \n",
       "\n",
       "         Last_Updated Next_Scheduled_Shipment  \n",
       "0 2023-06-12 15:35:00              2023-06-15  \n",
       "1 2023-06-12 18:30:00              2023-06-15  \n",
       "2 2023-06-12 17:22:00              2023-06-15  \n",
       "3 2023-06-12 16:29:00              2023-06-15  \n",
       "4 2023-06-12 18:10:00              2023-06-15  "
      ]
     },
     "execution_count": 2,
     "metadata": {},
     "output_type": "execute_result"
    }
   ],
   "source": [
    "#we take groceries dataset\n",
    "df=pd.read_excel('Groceries.xlsx')\n",
    "df.head()"
   ]
  },
  {
   "cell_type": "code",
   "execution_count": 34,
   "id": "e94d9c40",
   "metadata": {},
   "outputs": [
    {
     "data": {
      "text/plain": [
       "0      1.58\n",
       "1      0.42\n",
       "2      4.20\n",
       "3      1.04\n",
       "4      4.19\n",
       "5      6.29\n",
       "6      1.87\n",
       "7      2.10\n",
       "8      2.09\n",
       "9      1.04\n",
       "10     9.44\n",
       "11    11.01\n",
       "12     8.39\n",
       "13     3.68\n",
       "14     3.45\n",
       "15     4.71\n",
       "16     1.05\n",
       "17     1.58\n",
       "18     2.62\n",
       "19     5.66\n",
       "20     3.14\n",
       "21     7.34\n",
       "22     5.21\n",
       "23    11.54\n",
       "24     8.36\n",
       "Name: Price_Dollars, dtype: float64"
      ]
     },
     "execution_count": 34,
     "metadata": {},
     "output_type": "execute_result"
    }
   ],
   "source": [
    "#to applying any mathematical cal in any col\n",
    "#example\n",
    "df.Price_Dollars*1.05\n",
    "#round off\n",
    "round(df.Price_Dollars*1.05,2)"
   ]
  },
  {
   "cell_type": "code",
   "execution_count": 3,
   "id": "d63ecb52",
   "metadata": {},
   "outputs": [],
   "source": [
    "#create new col (do not use df.New_col)\n",
    "df['New_col']=round(df.Price_Dollars*1.05,2)"
   ]
  },
  {
   "cell_type": "code",
   "execution_count": 20,
   "id": "0e3ed4b6",
   "metadata": {},
   "outputs": [
    {
     "data": {
      "text/html": [
       "<div>\n",
       "<style scoped>\n",
       "    .dataframe tbody tr th:only-of-type {\n",
       "        vertical-align: middle;\n",
       "    }\n",
       "\n",
       "    .dataframe tbody tr th {\n",
       "        vertical-align: top;\n",
       "    }\n",
       "\n",
       "    .dataframe thead th {\n",
       "        text-align: right;\n",
       "    }\n",
       "</style>\n",
       "<table border=\"1\" class=\"dataframe\">\n",
       "  <thead>\n",
       "    <tr style=\"text-align: right;\">\n",
       "      <th></th>\n",
       "      <th>Product_ID</th>\n",
       "      <th>Category</th>\n",
       "      <th>Item</th>\n",
       "      <th>Price_Dollars</th>\n",
       "      <th>Inventory</th>\n",
       "      <th>Last_Updated</th>\n",
       "      <th>Next_Scheduled_Shipment</th>\n",
       "      <th>New_col</th>\n",
       "      <th>Total Inventory</th>\n",
       "      <th>Pecentage Inventory</th>\n",
       "      <th>Inventory Flag</th>\n",
       "      <th>LastUpdatedTiime</th>\n",
       "      <th>Next_Scheduled_Date</th>\n",
       "      <th>Shipment_Date_Dow</th>\n",
       "    </tr>\n",
       "  </thead>\n",
       "  <tbody>\n",
       "    <tr>\n",
       "      <th>0</th>\n",
       "      <td>P100010</td>\n",
       "      <td>Produce: Fruit</td>\n",
       "      <td>Apple</td>\n",
       "      <td>1.50</td>\n",
       "      <td>349</td>\n",
       "      <td>2023-06-12 15:35:00</td>\n",
       "      <td>2023-06-15</td>\n",
       "      <td>1.58</td>\n",
       "      <td>4857</td>\n",
       "      <td>7.19</td>\n",
       "      <td></td>\n",
       "      <td>15:35:00</td>\n",
       "      <td>2023-06-15</td>\n",
       "      <td>3</td>\n",
       "    </tr>\n",
       "    <tr>\n",
       "      <th>1</th>\n",
       "      <td>P100011</td>\n",
       "      <td>Produce: Fruit</td>\n",
       "      <td>Banana</td>\n",
       "      <td>0.40</td>\n",
       "      <td>500</td>\n",
       "      <td>2023-06-12 18:30:00</td>\n",
       "      <td>2023-06-15</td>\n",
       "      <td>0.42</td>\n",
       "      <td>4857</td>\n",
       "      <td>10.29</td>\n",
       "      <td></td>\n",
       "      <td>18:30:00</td>\n",
       "      <td>2023-06-15</td>\n",
       "      <td>3</td>\n",
       "    </tr>\n",
       "    <tr>\n",
       "      <th>2</th>\n",
       "      <td>P100012</td>\n",
       "      <td>Produce: Fruit</td>\n",
       "      <td>Grapes</td>\n",
       "      <td>4.00</td>\n",
       "      <td>200</td>\n",
       "      <td>2023-06-12 17:22:00</td>\n",
       "      <td>2023-06-15</td>\n",
       "      <td>4.20</td>\n",
       "      <td>4857</td>\n",
       "      <td>4.12</td>\n",
       "      <td></td>\n",
       "      <td>17:22:00</td>\n",
       "      <td>2023-06-15</td>\n",
       "      <td>3</td>\n",
       "    </tr>\n",
       "    <tr>\n",
       "      <th>3</th>\n",
       "      <td>P100013</td>\n",
       "      <td>Produce: Fruit</td>\n",
       "      <td>Grapefruit</td>\n",
       "      <td>0.99</td>\n",
       "      <td>50</td>\n",
       "      <td>2023-06-12 16:29:00</td>\n",
       "      <td>2023-06-15</td>\n",
       "      <td>1.04</td>\n",
       "      <td>4857</td>\n",
       "      <td>1.03</td>\n",
       "      <td></td>\n",
       "      <td>16:29:00</td>\n",
       "      <td>2023-06-15</td>\n",
       "      <td>3</td>\n",
       "    </tr>\n",
       "    <tr>\n",
       "      <th>4</th>\n",
       "      <td>P100014</td>\n",
       "      <td>Produce: Fruit</td>\n",
       "      <td>Organic Strawberries</td>\n",
       "      <td>3.99</td>\n",
       "      <td>148</td>\n",
       "      <td>2023-06-12 18:10:00</td>\n",
       "      <td>2023-06-15</td>\n",
       "      <td>4.19</td>\n",
       "      <td>4857</td>\n",
       "      <td>3.05</td>\n",
       "      <td></td>\n",
       "      <td>18:10:00</td>\n",
       "      <td>2023-06-15</td>\n",
       "      <td>3</td>\n",
       "    </tr>\n",
       "  </tbody>\n",
       "</table>\n",
       "</div>"
      ],
      "text/plain": [
       "  Product_ID        Category                  Item  Price_Dollars  Inventory  \\\n",
       "0    P100010  Produce: Fruit                 Apple           1.50        349   \n",
       "1    P100011  Produce: Fruit                Banana           0.40        500   \n",
       "2    P100012  Produce: Fruit                Grapes           4.00        200   \n",
       "3    P100013  Produce: Fruit            Grapefruit           0.99         50   \n",
       "4    P100014  Produce: Fruit  Organic Strawberries           3.99        148   \n",
       "\n",
       "         Last_Updated Next_Scheduled_Shipment  New_col  Total Inventory  \\\n",
       "0 2023-06-12 15:35:00              2023-06-15     1.58             4857   \n",
       "1 2023-06-12 18:30:00              2023-06-15     0.42             4857   \n",
       "2 2023-06-12 17:22:00              2023-06-15     4.20             4857   \n",
       "3 2023-06-12 16:29:00              2023-06-15     1.04             4857   \n",
       "4 2023-06-12 18:10:00              2023-06-15     4.19             4857   \n",
       "\n",
       "   Pecentage Inventory Inventory Flag LastUpdatedTiime Next_Scheduled_Date  \\\n",
       "0                 7.19                        15:35:00          2023-06-15   \n",
       "1                10.29                        18:30:00          2023-06-15   \n",
       "2                 4.12                        17:22:00          2023-06-15   \n",
       "3                 1.03                        16:29:00          2023-06-15   \n",
       "4                 3.05                        18:10:00          2023-06-15   \n",
       "\n",
       "   Shipment_Date_Dow  \n",
       "0                  3  \n",
       "1                  3  \n",
       "2                  3  \n",
       "3                  3  \n",
       "4                  3  "
      ]
     },
     "execution_count": 20,
     "metadata": {},
     "output_type": "execute_result"
    }
   ],
   "source": [
    "df.head()"
   ]
  },
  {
   "cell_type": "code",
   "execution_count": 5,
   "id": "8ff1d028",
   "metadata": {},
   "outputs": [],
   "source": [
    " df['Total Inventory']=df.Inventory.sum()"
   ]
  },
  {
   "cell_type": "code",
   "execution_count": 9,
   "id": "44425192",
   "metadata": {},
   "outputs": [],
   "source": [
    "#percentage\n",
    "df['Pecentage Inventory']=round(df['Inventory']/df['Total Inventory']*100,2)"
   ]
  },
  {
   "cell_type": "code",
   "execution_count": 10,
   "id": "15c8006e",
   "metadata": {},
   "outputs": [],
   "source": [
    "df['Inventory Flag']=np.where(df.Inventory<50,'Low Inventory','')"
   ]
  },
  {
   "cell_type": "code",
   "execution_count": 23,
   "id": "8e4187b5",
   "metadata": {},
   "outputs": [
    {
     "data": {
      "text/html": [
       "<div>\n",
       "<style scoped>\n",
       "    .dataframe tbody tr th:only-of-type {\n",
       "        vertical-align: middle;\n",
       "    }\n",
       "\n",
       "    .dataframe tbody tr th {\n",
       "        vertical-align: top;\n",
       "    }\n",
       "\n",
       "    .dataframe thead th {\n",
       "        text-align: right;\n",
       "    }\n",
       "</style>\n",
       "<table border=\"1\" class=\"dataframe\">\n",
       "  <thead>\n",
       "    <tr style=\"text-align: right;\">\n",
       "      <th></th>\n",
       "      <th>Product_ID</th>\n",
       "      <th>Category</th>\n",
       "      <th>Item</th>\n",
       "      <th>Price_Dollars</th>\n",
       "      <th>Inventory</th>\n",
       "      <th>Last_Updated</th>\n",
       "      <th>Next_Scheduled_Shipment</th>\n",
       "      <th>New_col</th>\n",
       "      <th>Total Inventory</th>\n",
       "      <th>Pecentage Inventory</th>\n",
       "      <th>Inventory Flag</th>\n",
       "      <th>LastUpdatedTiime</th>\n",
       "      <th>Next_Scheduled_Date</th>\n",
       "      <th>Shipment_Date_Dow</th>\n",
       "    </tr>\n",
       "  </thead>\n",
       "  <tbody>\n",
       "    <tr>\n",
       "      <th>0</th>\n",
       "      <td>P100010</td>\n",
       "      <td>Produce: Fruit</td>\n",
       "      <td>Apple</td>\n",
       "      <td>1.50</td>\n",
       "      <td>349</td>\n",
       "      <td>2023-06-12 15:35:00</td>\n",
       "      <td>2023-06-15</td>\n",
       "      <td>1.58</td>\n",
       "      <td>4857</td>\n",
       "      <td>7.19</td>\n",
       "      <td></td>\n",
       "      <td>15:35:00</td>\n",
       "      <td>2023-06-15</td>\n",
       "      <td>Thursday</td>\n",
       "    </tr>\n",
       "    <tr>\n",
       "      <th>1</th>\n",
       "      <td>P100011</td>\n",
       "      <td>Produce: Fruit</td>\n",
       "      <td>Banana</td>\n",
       "      <td>0.40</td>\n",
       "      <td>500</td>\n",
       "      <td>2023-06-12 18:30:00</td>\n",
       "      <td>2023-06-15</td>\n",
       "      <td>0.42</td>\n",
       "      <td>4857</td>\n",
       "      <td>10.29</td>\n",
       "      <td></td>\n",
       "      <td>18:30:00</td>\n",
       "      <td>2023-06-15</td>\n",
       "      <td>Thursday</td>\n",
       "    </tr>\n",
       "    <tr>\n",
       "      <th>2</th>\n",
       "      <td>P100012</td>\n",
       "      <td>Produce: Fruit</td>\n",
       "      <td>Grapes</td>\n",
       "      <td>4.00</td>\n",
       "      <td>200</td>\n",
       "      <td>2023-06-12 17:22:00</td>\n",
       "      <td>2023-06-15</td>\n",
       "      <td>4.20</td>\n",
       "      <td>4857</td>\n",
       "      <td>4.12</td>\n",
       "      <td></td>\n",
       "      <td>17:22:00</td>\n",
       "      <td>2023-06-15</td>\n",
       "      <td>Thursday</td>\n",
       "    </tr>\n",
       "    <tr>\n",
       "      <th>3</th>\n",
       "      <td>P100013</td>\n",
       "      <td>Produce: Fruit</td>\n",
       "      <td>Grapefruit</td>\n",
       "      <td>0.99</td>\n",
       "      <td>50</td>\n",
       "      <td>2023-06-12 16:29:00</td>\n",
       "      <td>2023-06-15</td>\n",
       "      <td>1.04</td>\n",
       "      <td>4857</td>\n",
       "      <td>1.03</td>\n",
       "      <td></td>\n",
       "      <td>16:29:00</td>\n",
       "      <td>2023-06-15</td>\n",
       "      <td>Thursday</td>\n",
       "    </tr>\n",
       "    <tr>\n",
       "      <th>4</th>\n",
       "      <td>P100014</td>\n",
       "      <td>Produce: Fruit</td>\n",
       "      <td>Organic Strawberries</td>\n",
       "      <td>3.99</td>\n",
       "      <td>148</td>\n",
       "      <td>2023-06-12 18:10:00</td>\n",
       "      <td>2023-06-15</td>\n",
       "      <td>4.19</td>\n",
       "      <td>4857</td>\n",
       "      <td>3.05</td>\n",
       "      <td></td>\n",
       "      <td>18:10:00</td>\n",
       "      <td>2023-06-15</td>\n",
       "      <td>Thursday</td>\n",
       "    </tr>\n",
       "  </tbody>\n",
       "</table>\n",
       "</div>"
      ],
      "text/plain": [
       "  Product_ID        Category                  Item  Price_Dollars  Inventory  \\\n",
       "0    P100010  Produce: Fruit                 Apple           1.50        349   \n",
       "1    P100011  Produce: Fruit                Banana           0.40        500   \n",
       "2    P100012  Produce: Fruit                Grapes           4.00        200   \n",
       "3    P100013  Produce: Fruit            Grapefruit           0.99         50   \n",
       "4    P100014  Produce: Fruit  Organic Strawberries           3.99        148   \n",
       "\n",
       "         Last_Updated Next_Scheduled_Shipment  New_col  Total Inventory  \\\n",
       "0 2023-06-12 15:35:00              2023-06-15     1.58             4857   \n",
       "1 2023-06-12 18:30:00              2023-06-15     0.42             4857   \n",
       "2 2023-06-12 17:22:00              2023-06-15     4.20             4857   \n",
       "3 2023-06-12 16:29:00              2023-06-15     1.04             4857   \n",
       "4 2023-06-12 18:10:00              2023-06-15     4.19             4857   \n",
       "\n",
       "   Pecentage Inventory Inventory Flag LastUpdatedTiime Next_Scheduled_Date  \\\n",
       "0                 7.19                        15:35:00          2023-06-15   \n",
       "1                10.29                        18:30:00          2023-06-15   \n",
       "2                 4.12                        17:22:00          2023-06-15   \n",
       "3                 1.03                        16:29:00          2023-06-15   \n",
       "4                 3.05                        18:10:00          2023-06-15   \n",
       "\n",
       "  Shipment_Date_Dow  \n",
       "0          Thursday  \n",
       "1          Thursday  \n",
       "2          Thursday  \n",
       "3          Thursday  \n",
       "4          Thursday  "
      ]
     },
     "execution_count": 23,
     "metadata": {},
     "output_type": "execute_result"
    }
   ],
   "source": [
    "df.head()"
   ]
  },
  {
   "cell_type": "markdown",
   "id": "15b78d07",
   "metadata": {},
   "source": [
    "### b.create new datetime col\n",
    "extracting datetime components,applying datetime cal"
   ]
  },
  {
   "cell_type": "markdown",
   "id": "c820eae6",
   "metadata": {},
   "source": [
    "use dt.component to extract component from datetime value \n",
    "syntax\n",
    "\n",
    "df[col_name_date].dt.day   extract day from date /n\n",
    "df[col_name_date].dt.dayofweek   extract day of week /n\n",
    "df[col_name_date].dt.time extract time"
   ]
  },
  {
   "cell_type": "code",
   "execution_count": 13,
   "id": "dd0e88fd",
   "metadata": {},
   "outputs": [],
   "source": [
    "df['LastUpdatedTiime']=df.Last_Updated.dt.time"
   ]
  },
  {
   "cell_type": "code",
   "execution_count": 19,
   "id": "ddf9729e",
   "metadata": {},
   "outputs": [],
   "source": [
    "df['Shipment_Date_Dow']=df.Next_Scheduled_Shipment.dt.dayofweek \n",
    "#this will nemreic value"
   ]
  },
  {
   "cell_type": "code",
   "execution_count": 21,
   "id": "a74a0907",
   "metadata": {},
   "outputs": [],
   "source": [
    "#to get actual name of day\n",
    "dow_mapping={\n",
    "        0:'Monday',\n",
    "        1:'Tuesday',\n",
    "        2:'Wednesday',\n",
    "        3:'Thursday',\n",
    "        4:'Friday',\n",
    "        5:'Saturday',\n",
    "        6:'Sunday'\n",
    "}"
   ]
  },
  {
   "cell_type": "code",
   "execution_count": 22,
   "id": "4a2a5d66",
   "metadata": {},
   "outputs": [],
   "source": [
    "df['Shipment_Date_Dow']=df['Shipment_Date_Dow'].map(dow_mapping)"
   ]
  },
  {
   "cell_type": "code",
   "execution_count": 48,
   "id": "fc60a23c",
   "metadata": {},
   "outputs": [
    {
     "data": {
      "text/html": [
       "<div>\n",
       "<style scoped>\n",
       "    .dataframe tbody tr th:only-of-type {\n",
       "        vertical-align: middle;\n",
       "    }\n",
       "\n",
       "    .dataframe tbody tr th {\n",
       "        vertical-align: top;\n",
       "    }\n",
       "\n",
       "    .dataframe thead th {\n",
       "        text-align: right;\n",
       "    }\n",
       "</style>\n",
       "<table border=\"1\" class=\"dataframe\">\n",
       "  <thead>\n",
       "    <tr style=\"text-align: right;\">\n",
       "      <th></th>\n",
       "      <th>Product_ID</th>\n",
       "      <th>Category</th>\n",
       "      <th>Item</th>\n",
       "      <th>Price_Dollars</th>\n",
       "      <th>Inventory</th>\n",
       "      <th>Last_Updated</th>\n",
       "      <th>Next_Scheduled_Shipment</th>\n",
       "      <th>Pecentage Inventory</th>\n",
       "      <th>Inventory Flag</th>\n",
       "      <th>LastUpdatedTiime</th>\n",
       "      <th>Next_Scheduled_Date</th>\n",
       "      <th>Shipment_Date_Dow</th>\n",
       "      <th>Product_Id_No</th>\n",
       "      <th>SubCategory</th>\n",
       "    </tr>\n",
       "  </thead>\n",
       "  <tbody>\n",
       "    <tr>\n",
       "      <th>0</th>\n",
       "      <td>P100010</td>\n",
       "      <td>Produce</td>\n",
       "      <td>Apple</td>\n",
       "      <td>1.50</td>\n",
       "      <td>349</td>\n",
       "      <td>2023-06-12 15:35:00</td>\n",
       "      <td>2023-06-15</td>\n",
       "      <td>7.19</td>\n",
       "      <td></td>\n",
       "      <td>15:35:00</td>\n",
       "      <td>2023-06-15</td>\n",
       "      <td>Thursday</td>\n",
       "      <td>100010</td>\n",
       "      <td>Fruit</td>\n",
       "    </tr>\n",
       "    <tr>\n",
       "      <th>1</th>\n",
       "      <td>P100011</td>\n",
       "      <td>Produce</td>\n",
       "      <td>Banana</td>\n",
       "      <td>0.40</td>\n",
       "      <td>500</td>\n",
       "      <td>2023-06-12 18:30:00</td>\n",
       "      <td>2023-06-15</td>\n",
       "      <td>10.29</td>\n",
       "      <td></td>\n",
       "      <td>18:30:00</td>\n",
       "      <td>2023-06-15</td>\n",
       "      <td>Thursday</td>\n",
       "      <td>100011</td>\n",
       "      <td>Fruit</td>\n",
       "    </tr>\n",
       "    <tr>\n",
       "      <th>2</th>\n",
       "      <td>P100012</td>\n",
       "      <td>Produce</td>\n",
       "      <td>Grapes</td>\n",
       "      <td>4.00</td>\n",
       "      <td>200</td>\n",
       "      <td>2023-06-12 17:22:00</td>\n",
       "      <td>2023-06-15</td>\n",
       "      <td>4.12</td>\n",
       "      <td></td>\n",
       "      <td>17:22:00</td>\n",
       "      <td>2023-06-15</td>\n",
       "      <td>Thursday</td>\n",
       "      <td>100012</td>\n",
       "      <td>Fruit</td>\n",
       "    </tr>\n",
       "    <tr>\n",
       "      <th>3</th>\n",
       "      <td>P100013</td>\n",
       "      <td>Produce</td>\n",
       "      <td>Grapefruit</td>\n",
       "      <td>0.99</td>\n",
       "      <td>50</td>\n",
       "      <td>2023-06-12 16:29:00</td>\n",
       "      <td>2023-06-15</td>\n",
       "      <td>1.03</td>\n",
       "      <td></td>\n",
       "      <td>16:29:00</td>\n",
       "      <td>2023-06-15</td>\n",
       "      <td>Thursday</td>\n",
       "      <td>100013</td>\n",
       "      <td>Fruit</td>\n",
       "    </tr>\n",
       "    <tr>\n",
       "      <th>4</th>\n",
       "      <td>P100014</td>\n",
       "      <td>Produce</td>\n",
       "      <td>Organic Strawberries</td>\n",
       "      <td>3.99</td>\n",
       "      <td>148</td>\n",
       "      <td>2023-06-12 18:10:00</td>\n",
       "      <td>2023-06-15</td>\n",
       "      <td>3.05</td>\n",
       "      <td></td>\n",
       "      <td>18:10:00</td>\n",
       "      <td>2023-06-15</td>\n",
       "      <td>Thursday</td>\n",
       "      <td>100014</td>\n",
       "      <td>Fruit</td>\n",
       "    </tr>\n",
       "    <tr>\n",
       "      <th>5</th>\n",
       "      <td>P100015</td>\n",
       "      <td>Produce</td>\n",
       "      <td>Watermelon</td>\n",
       "      <td>5.99</td>\n",
       "      <td>99</td>\n",
       "      <td>2023-06-12 19:15:00</td>\n",
       "      <td>2023-06-15</td>\n",
       "      <td>2.04</td>\n",
       "      <td></td>\n",
       "      <td>19:15:00</td>\n",
       "      <td>2023-06-15</td>\n",
       "      <td>Thursday</td>\n",
       "      <td>100015</td>\n",
       "      <td>Fruit</td>\n",
       "    </tr>\n",
       "    <tr>\n",
       "      <th>6</th>\n",
       "      <td>P100016</td>\n",
       "      <td>Produce</td>\n",
       "      <td>Cabbage</td>\n",
       "      <td>1.78</td>\n",
       "      <td>78</td>\n",
       "      <td>2023-06-12 19:25:00</td>\n",
       "      <td>2023-06-15</td>\n",
       "      <td>1.61</td>\n",
       "      <td></td>\n",
       "      <td>19:25:00</td>\n",
       "      <td>2023-06-15</td>\n",
       "      <td>Thursday</td>\n",
       "      <td>100016</td>\n",
       "      <td>Vegetable</td>\n",
       "    </tr>\n",
       "    <tr>\n",
       "      <th>7</th>\n",
       "      <td>P100017</td>\n",
       "      <td>Produce</td>\n",
       "      <td>Carrots</td>\n",
       "      <td>2.00</td>\n",
       "      <td>200</td>\n",
       "      <td>2023-06-12 18:05:00</td>\n",
       "      <td>2023-06-15</td>\n",
       "      <td>4.12</td>\n",
       "      <td></td>\n",
       "      <td>18:05:00</td>\n",
       "      <td>2023-06-15</td>\n",
       "      <td>Thursday</td>\n",
       "      <td>100017</td>\n",
       "      <td>Vegetable</td>\n",
       "    </tr>\n",
       "    <tr>\n",
       "      <th>8</th>\n",
       "      <td>P100018</td>\n",
       "      <td>Produce</td>\n",
       "      <td>Celery</td>\n",
       "      <td>1.99</td>\n",
       "      <td>50</td>\n",
       "      <td>2023-06-12 16:42:00</td>\n",
       "      <td>2023-06-15</td>\n",
       "      <td>1.03</td>\n",
       "      <td></td>\n",
       "      <td>16:42:00</td>\n",
       "      <td>2023-06-15</td>\n",
       "      <td>Thursday</td>\n",
       "      <td>100018</td>\n",
       "      <td>Vegetable</td>\n",
       "    </tr>\n",
       "    <tr>\n",
       "      <th>9</th>\n",
       "      <td>P100019</td>\n",
       "      <td>Produce</td>\n",
       "      <td>Cucumber</td>\n",
       "      <td>0.99</td>\n",
       "      <td>230</td>\n",
       "      <td>2023-06-12 17:47:00</td>\n",
       "      <td>2023-06-15</td>\n",
       "      <td>4.74</td>\n",
       "      <td></td>\n",
       "      <td>17:47:00</td>\n",
       "      <td>2023-06-15</td>\n",
       "      <td>Thursday</td>\n",
       "      <td>100019</td>\n",
       "      <td>Vegetable</td>\n",
       "    </tr>\n",
       "    <tr>\n",
       "      <th>10</th>\n",
       "      <td>P100020</td>\n",
       "      <td>Produce</td>\n",
       "      <td>Beef</td>\n",
       "      <td>8.99</td>\n",
       "      <td>145</td>\n",
       "      <td>2023-06-13 07:00:00</td>\n",
       "      <td>2023-06-17</td>\n",
       "      <td>2.99</td>\n",
       "      <td></td>\n",
       "      <td>07:00:00</td>\n",
       "      <td>2023-06-17</td>\n",
       "      <td>Saturday</td>\n",
       "      <td>100020</td>\n",
       "      <td>Meat</td>\n",
       "    </tr>\n",
       "    <tr>\n",
       "      <th>11</th>\n",
       "      <td>P100021</td>\n",
       "      <td>Produce</td>\n",
       "      <td>Chicken (Organic)</td>\n",
       "      <td>10.49</td>\n",
       "      <td>284</td>\n",
       "      <td>2023-06-13 07:20:00</td>\n",
       "      <td>2023-06-17</td>\n",
       "      <td>5.85</td>\n",
       "      <td></td>\n",
       "      <td>07:20:00</td>\n",
       "      <td>2023-06-17</td>\n",
       "      <td>Saturday</td>\n",
       "      <td>100021</td>\n",
       "      <td>Meat</td>\n",
       "    </tr>\n",
       "    <tr>\n",
       "      <th>12</th>\n",
       "      <td>P100022</td>\n",
       "      <td>Produce</td>\n",
       "      <td>Turkey</td>\n",
       "      <td>7.99</td>\n",
       "      <td>188</td>\n",
       "      <td>2023-06-13 07:32:00</td>\n",
       "      <td>2023-06-17</td>\n",
       "      <td>3.87</td>\n",
       "      <td></td>\n",
       "      <td>07:32:00</td>\n",
       "      <td>2023-06-17</td>\n",
       "      <td>Saturday</td>\n",
       "      <td>100022</td>\n",
       "      <td>Meat</td>\n",
       "    </tr>\n",
       "    <tr>\n",
       "      <th>13</th>\n",
       "      <td>P100023</td>\n",
       "      <td>Produce</td>\n",
       "      <td>Butter</td>\n",
       "      <td>3.50</td>\n",
       "      <td>400</td>\n",
       "      <td>2023-06-13 08:35:00</td>\n",
       "      <td>2023-06-17</td>\n",
       "      <td>8.24</td>\n",
       "      <td></td>\n",
       "      <td>08:35:00</td>\n",
       "      <td>2023-06-17</td>\n",
       "      <td>Saturday</td>\n",
       "      <td>100023</td>\n",
       "      <td>Dairy</td>\n",
       "    </tr>\n",
       "    <tr>\n",
       "      <th>14</th>\n",
       "      <td>P100024</td>\n",
       "      <td>Produce</td>\n",
       "      <td>Eggs</td>\n",
       "      <td>3.29</td>\n",
       "      <td>234</td>\n",
       "      <td>2023-06-13 08:54:00</td>\n",
       "      <td>2023-06-17</td>\n",
       "      <td>4.82</td>\n",
       "      <td></td>\n",
       "      <td>08:54:00</td>\n",
       "      <td>2023-06-17</td>\n",
       "      <td>Saturday</td>\n",
       "      <td>100024</td>\n",
       "      <td>Dairy</td>\n",
       "    </tr>\n",
       "    <tr>\n",
       "      <th>15</th>\n",
       "      <td>P100025</td>\n",
       "      <td>Produce</td>\n",
       "      <td>Milk (Soy)</td>\n",
       "      <td>4.49</td>\n",
       "      <td>32</td>\n",
       "      <td>2023-06-13 08:37:00</td>\n",
       "      <td>2023-06-17</td>\n",
       "      <td>0.66</td>\n",
       "      <td>Low Inventory</td>\n",
       "      <td>08:37:00</td>\n",
       "      <td>2023-06-17</td>\n",
       "      <td>Saturday</td>\n",
       "      <td>100025</td>\n",
       "      <td>Dairy</td>\n",
       "    </tr>\n",
       "    <tr>\n",
       "      <th>16</th>\n",
       "      <td>P100026</td>\n",
       "      <td>Produce</td>\n",
       "      <td>Yogurt</td>\n",
       "      <td>1.00</td>\n",
       "      <td>432</td>\n",
       "      <td>2023-06-13 08:41:00</td>\n",
       "      <td>2023-06-17</td>\n",
       "      <td>8.89</td>\n",
       "      <td></td>\n",
       "      <td>08:41:00</td>\n",
       "      <td>2023-06-17</td>\n",
       "      <td>Saturday</td>\n",
       "      <td>100026</td>\n",
       "      <td>Dairy</td>\n",
       "    </tr>\n",
       "    <tr>\n",
       "      <th>17</th>\n",
       "      <td>P100027</td>\n",
       "      <td>Pantry</td>\n",
       "      <td>Apple Sauce - organic</td>\n",
       "      <td>1.50</td>\n",
       "      <td>27</td>\n",
       "      <td>2023-06-10 12:02:00</td>\n",
       "      <td>2023-06-24</td>\n",
       "      <td>0.56</td>\n",
       "      <td>Low Inventory</td>\n",
       "      <td>12:02:00</td>\n",
       "      <td>2023-06-24</td>\n",
       "      <td>Saturday</td>\n",
       "      <td>100027</td>\n",
       "      <td>Snacks</td>\n",
       "    </tr>\n",
       "    <tr>\n",
       "      <th>18</th>\n",
       "      <td>P100028</td>\n",
       "      <td>Pantry</td>\n",
       "      <td>Chips</td>\n",
       "      <td>2.50</td>\n",
       "      <td>365</td>\n",
       "      <td>2023-06-10 12:12:00</td>\n",
       "      <td>2023-06-24</td>\n",
       "      <td>7.51</td>\n",
       "      <td></td>\n",
       "      <td>12:12:00</td>\n",
       "      <td>2023-06-24</td>\n",
       "      <td>Saturday</td>\n",
       "      <td>100028</td>\n",
       "      <td>Snacks</td>\n",
       "    </tr>\n",
       "    <tr>\n",
       "      <th>19</th>\n",
       "      <td>P100029</td>\n",
       "      <td>Pantry</td>\n",
       "      <td>Cookies (Oatmeal)</td>\n",
       "      <td>5.39</td>\n",
       "      <td>340</td>\n",
       "      <td>2023-06-10 12:24:00</td>\n",
       "      <td>2023-06-24</td>\n",
       "      <td>7.00</td>\n",
       "      <td></td>\n",
       "      <td>12:24:00</td>\n",
       "      <td>2023-06-24</td>\n",
       "      <td>Saturday</td>\n",
       "      <td>100029</td>\n",
       "      <td>Snacks</td>\n",
       "    </tr>\n",
       "    <tr>\n",
       "      <th>20</th>\n",
       "      <td>P100030</td>\n",
       "      <td>Pantry</td>\n",
       "      <td>Raisins</td>\n",
       "      <td>2.99</td>\n",
       "      <td>5</td>\n",
       "      <td>2023-06-10 12:38:00</td>\n",
       "      <td>2023-06-24</td>\n",
       "      <td>0.10</td>\n",
       "      <td>Low Inventory</td>\n",
       "      <td>12:38:00</td>\n",
       "      <td>2023-06-24</td>\n",
       "      <td>Saturday</td>\n",
       "      <td>100030</td>\n",
       "      <td>Snacks</td>\n",
       "    </tr>\n",
       "    <tr>\n",
       "      <th>21</th>\n",
       "      <td>P100031</td>\n",
       "      <td>Frozen</td>\n",
       "      <td>Chicken Nuggets</td>\n",
       "      <td>6.99</td>\n",
       "      <td>85</td>\n",
       "      <td>2023-05-28 22:02:00</td>\n",
       "      <td>2023-06-28</td>\n",
       "      <td>1.75</td>\n",
       "      <td></td>\n",
       "      <td>22:02:00</td>\n",
       "      <td>2023-06-28</td>\n",
       "      <td>Wednesday</td>\n",
       "      <td>100031</td>\n",
       "      <td>Frozen Snacks</td>\n",
       "    </tr>\n",
       "    <tr>\n",
       "      <th>22</th>\n",
       "      <td>P100032</td>\n",
       "      <td>Frozen</td>\n",
       "      <td>Spinach Dip</td>\n",
       "      <td>4.96</td>\n",
       "      <td>76</td>\n",
       "      <td>2023-05-28 22:05:00</td>\n",
       "      <td>2023-06-28</td>\n",
       "      <td>1.56</td>\n",
       "      <td></td>\n",
       "      <td>22:05:00</td>\n",
       "      <td>2023-06-28</td>\n",
       "      <td>Wednesday</td>\n",
       "      <td>100032</td>\n",
       "      <td>Frozen Snacks</td>\n",
       "    </tr>\n",
       "    <tr>\n",
       "      <th>23</th>\n",
       "      <td>P100033</td>\n",
       "      <td>Frozen</td>\n",
       "      <td>Frozen Blueberries</td>\n",
       "      <td>10.99</td>\n",
       "      <td>162</td>\n",
       "      <td>2023-05-28 22:14:00</td>\n",
       "      <td>2023-06-28</td>\n",
       "      <td>3.34</td>\n",
       "      <td></td>\n",
       "      <td>22:14:00</td>\n",
       "      <td>2023-06-28</td>\n",
       "      <td>Wednesday</td>\n",
       "      <td>100033</td>\n",
       "      <td>Frozen Fruit</td>\n",
       "    </tr>\n",
       "    <tr>\n",
       "      <th>24</th>\n",
       "      <td>P100034</td>\n",
       "      <td>Frozen</td>\n",
       "      <td>Frozen Pineapple</td>\n",
       "      <td>7.96</td>\n",
       "      <td>178</td>\n",
       "      <td>2023-05-28 22:11:00</td>\n",
       "      <td>2023-06-28</td>\n",
       "      <td>3.66</td>\n",
       "      <td></td>\n",
       "      <td>22:11:00</td>\n",
       "      <td>2023-06-28</td>\n",
       "      <td>Wednesday</td>\n",
       "      <td>100034</td>\n",
       "      <td>Frozen Fruit</td>\n",
       "    </tr>\n",
       "  </tbody>\n",
       "</table>\n",
       "</div>"
      ],
      "text/plain": [
       "   Product_ID Category                   Item  Price_Dollars  Inventory  \\\n",
       "0     P100010  Produce                  Apple           1.50        349   \n",
       "1     P100011  Produce                 Banana           0.40        500   \n",
       "2     P100012  Produce                 Grapes           4.00        200   \n",
       "3     P100013  Produce             Grapefruit           0.99         50   \n",
       "4     P100014  Produce   Organic Strawberries           3.99        148   \n",
       "5     P100015  Produce             Watermelon           5.99         99   \n",
       "6     P100016  Produce                Cabbage           1.78         78   \n",
       "7     P100017  Produce                Carrots           2.00        200   \n",
       "8     P100018  Produce                 Celery           1.99         50   \n",
       "9     P100019  Produce               Cucumber           0.99        230   \n",
       "10    P100020  Produce                   Beef           8.99        145   \n",
       "11    P100021  Produce      Chicken (Organic)          10.49        284   \n",
       "12    P100022  Produce                 Turkey           7.99        188   \n",
       "13    P100023  Produce                 Butter           3.50        400   \n",
       "14    P100024  Produce                   Eggs           3.29        234   \n",
       "15    P100025  Produce             Milk (Soy)           4.49         32   \n",
       "16    P100026  Produce                 Yogurt           1.00        432   \n",
       "17    P100027   Pantry  Apple Sauce - organic           1.50         27   \n",
       "18    P100028   Pantry                  Chips           2.50        365   \n",
       "19    P100029   Pantry      Cookies (Oatmeal)           5.39        340   \n",
       "20    P100030   Pantry                Raisins           2.99          5   \n",
       "21    P100031   Frozen        Chicken Nuggets           6.99         85   \n",
       "22    P100032   Frozen            Spinach Dip           4.96         76   \n",
       "23    P100033   Frozen     Frozen Blueberries          10.99        162   \n",
       "24    P100034   Frozen       Frozen Pineapple           7.96        178   \n",
       "\n",
       "          Last_Updated Next_Scheduled_Shipment  Pecentage Inventory  \\\n",
       "0  2023-06-12 15:35:00              2023-06-15                 7.19   \n",
       "1  2023-06-12 18:30:00              2023-06-15                10.29   \n",
       "2  2023-06-12 17:22:00              2023-06-15                 4.12   \n",
       "3  2023-06-12 16:29:00              2023-06-15                 1.03   \n",
       "4  2023-06-12 18:10:00              2023-06-15                 3.05   \n",
       "5  2023-06-12 19:15:00              2023-06-15                 2.04   \n",
       "6  2023-06-12 19:25:00              2023-06-15                 1.61   \n",
       "7  2023-06-12 18:05:00              2023-06-15                 4.12   \n",
       "8  2023-06-12 16:42:00              2023-06-15                 1.03   \n",
       "9  2023-06-12 17:47:00              2023-06-15                 4.74   \n",
       "10 2023-06-13 07:00:00              2023-06-17                 2.99   \n",
       "11 2023-06-13 07:20:00              2023-06-17                 5.85   \n",
       "12 2023-06-13 07:32:00              2023-06-17                 3.87   \n",
       "13 2023-06-13 08:35:00              2023-06-17                 8.24   \n",
       "14 2023-06-13 08:54:00              2023-06-17                 4.82   \n",
       "15 2023-06-13 08:37:00              2023-06-17                 0.66   \n",
       "16 2023-06-13 08:41:00              2023-06-17                 8.89   \n",
       "17 2023-06-10 12:02:00              2023-06-24                 0.56   \n",
       "18 2023-06-10 12:12:00              2023-06-24                 7.51   \n",
       "19 2023-06-10 12:24:00              2023-06-24                 7.00   \n",
       "20 2023-06-10 12:38:00              2023-06-24                 0.10   \n",
       "21 2023-05-28 22:02:00              2023-06-28                 1.75   \n",
       "22 2023-05-28 22:05:00              2023-06-28                 1.56   \n",
       "23 2023-05-28 22:14:00              2023-06-28                 3.34   \n",
       "24 2023-05-28 22:11:00              2023-06-28                 3.66   \n",
       "\n",
       "   Inventory Flag LastUpdatedTiime Next_Scheduled_Date Shipment_Date_Dow  \\\n",
       "0                         15:35:00          2023-06-15          Thursday   \n",
       "1                         18:30:00          2023-06-15          Thursday   \n",
       "2                         17:22:00          2023-06-15          Thursday   \n",
       "3                         16:29:00          2023-06-15          Thursday   \n",
       "4                         18:10:00          2023-06-15          Thursday   \n",
       "5                         19:15:00          2023-06-15          Thursday   \n",
       "6                         19:25:00          2023-06-15          Thursday   \n",
       "7                         18:05:00          2023-06-15          Thursday   \n",
       "8                         16:42:00          2023-06-15          Thursday   \n",
       "9                         17:47:00          2023-06-15          Thursday   \n",
       "10                        07:00:00          2023-06-17          Saturday   \n",
       "11                        07:20:00          2023-06-17          Saturday   \n",
       "12                        07:32:00          2023-06-17          Saturday   \n",
       "13                        08:35:00          2023-06-17          Saturday   \n",
       "14                        08:54:00          2023-06-17          Saturday   \n",
       "15  Low Inventory         08:37:00          2023-06-17          Saturday   \n",
       "16                        08:41:00          2023-06-17          Saturday   \n",
       "17  Low Inventory         12:02:00          2023-06-24          Saturday   \n",
       "18                        12:12:00          2023-06-24          Saturday   \n",
       "19                        12:24:00          2023-06-24          Saturday   \n",
       "20  Low Inventory         12:38:00          2023-06-24          Saturday   \n",
       "21                        22:02:00          2023-06-28         Wednesday   \n",
       "22                        22:05:00          2023-06-28         Wednesday   \n",
       "23                        22:14:00          2023-06-28         Wednesday   \n",
       "24                        22:11:00          2023-06-28         Wednesday   \n",
       "\n",
       "    Product_Id_No     SubCategory  \n",
       "0          100010           Fruit  \n",
       "1          100011           Fruit  \n",
       "2          100012           Fruit  \n",
       "3          100013           Fruit  \n",
       "4          100014           Fruit  \n",
       "5          100015           Fruit  \n",
       "6          100016       Vegetable  \n",
       "7          100017       Vegetable  \n",
       "8          100018       Vegetable  \n",
       "9          100019       Vegetable  \n",
       "10         100020            Meat  \n",
       "11         100021            Meat  \n",
       "12         100022            Meat  \n",
       "13         100023           Dairy  \n",
       "14         100024           Dairy  \n",
       "15         100025           Dairy  \n",
       "16         100026           Dairy  \n",
       "17         100027          Snacks  \n",
       "18         100028          Snacks  \n",
       "19         100029          Snacks  \n",
       "20         100030          Snacks  \n",
       "21         100031   Frozen Snacks  \n",
       "22         100032   Frozen Snacks  \n",
       "23         100033    Frozen Fruit  \n",
       "24         100034    Frozen Fruit  "
      ]
     },
     "execution_count": 48,
     "metadata": {},
     "output_type": "execute_result"
    }
   ],
   "source": [
    "df"
   ]
  },
  {
   "cell_type": "markdown",
   "id": "072880d2",
   "metadata": {},
   "source": [
    "### c. create new text col\n",
    "extracting text,splitting into multiple col,finding patterns"
   ]
  },
  {
   "cell_type": "code",
   "execution_count": 26,
   "id": "c0eef7b2",
   "metadata": {},
   "outputs": [],
   "source": [
    "# frist three cols are text\n",
    "#make make col purely text , rmeove P letter\n",
    "df['Product_Id_No']=df.Product_ID.str[1:]"
   ]
  },
  {
   "cell_type": "code",
   "execution_count": 28,
   "id": "1039fe12",
   "metadata": {},
   "outputs": [
    {
     "data": {
      "text/plain": [
       "Product_ID                         object\n",
       "Category                           object\n",
       "Item                               object\n",
       "Price_Dollars                     float64\n",
       "Inventory                           int64\n",
       "Last_Updated               datetime64[ns]\n",
       "Next_Scheduled_Shipment    datetime64[ns]\n",
       "New_col                           float64\n",
       "Total Inventory                     int64\n",
       "Pecentage Inventory               float64\n",
       "Inventory Flag                     object\n",
       "LastUpdatedTiime                   object\n",
       "Next_Scheduled_Date                object\n",
       "Shipment_Date_Dow                  object\n",
       "Product_Id_No                      object\n",
       "dtype: object"
      ]
     },
     "execution_count": 28,
     "metadata": {},
     "output_type": "execute_result"
    }
   ],
   "source": [
    "df.dtypes"
   ]
  },
  {
   "cell_type": "code",
   "execution_count": 31,
   "id": "285ea05c",
   "metadata": {},
   "outputs": [
    {
     "data": {
      "text/plain": [
       "Product_ID                         object\n",
       "Category                           object\n",
       "Item                               object\n",
       "Price_Dollars                     float64\n",
       "Inventory                           int64\n",
       "Last_Updated               datetime64[ns]\n",
       "Next_Scheduled_Shipment    datetime64[ns]\n",
       "New_col                           float64\n",
       "Total Inventory                     int64\n",
       "Pecentage Inventory               float64\n",
       "Inventory Flag                     object\n",
       "LastUpdatedTiime                   object\n",
       "Next_Scheduled_Date                object\n",
       "Shipment_Date_Dow                  object\n",
       "Product_Id_No                       int32\n",
       "dtype: object"
      ]
     },
     "execution_count": 31,
     "metadata": {},
     "output_type": "execute_result"
    }
   ],
   "source": [
    "#change dtype from object to int\n",
    "df['Product_Id_No']=df['Product_Id_No'].astype('int')\n",
    "df.dtypes"
   ]
  },
  {
   "cell_type": "code",
   "execution_count": 33,
   "id": "a3408eaf",
   "metadata": {},
   "outputs": [
    {
     "data": {
      "text/plain": [
       "Category\n",
       "Produce: Fruit           6\n",
       "Produce: Vegetable       4\n",
       "Produce: Dairy           4\n",
       "Pantry: Snacks           4\n",
       "Produce: Meat            3\n",
       "Frozen: Frozen Snacks    2\n",
       "Frozen: Frozen Fruit     2\n",
       "Name: count, dtype: int64"
      ]
     },
     "execution_count": 33,
     "metadata": {},
     "output_type": "execute_result"
    }
   ],
   "source": [
    "df.Category.value_counts()"
   ]
  },
  {
   "cell_type": "code",
   "execution_count": 34,
   "id": "cde04ad8",
   "metadata": {},
   "outputs": [
    {
     "data": {
      "text/plain": [
       "0            [Produce,  Fruit]\n",
       "1            [Produce,  Fruit]\n",
       "2            [Produce,  Fruit]\n",
       "3            [Produce,  Fruit]\n",
       "4            [Produce,  Fruit]\n",
       "5            [Produce,  Fruit]\n",
       "6        [Produce,  Vegetable]\n",
       "7        [Produce,  Vegetable]\n",
       "8        [Produce,  Vegetable]\n",
       "9        [Produce,  Vegetable]\n",
       "10            [Produce,  Meat]\n",
       "11            [Produce,  Meat]\n",
       "12            [Produce,  Meat]\n",
       "13           [Produce,  Dairy]\n",
       "14           [Produce,  Dairy]\n",
       "15           [Produce,  Dairy]\n",
       "16           [Produce,  Dairy]\n",
       "17           [Pantry,  Snacks]\n",
       "18           [Pantry,  Snacks]\n",
       "19           [Pantry,  Snacks]\n",
       "20           [Pantry,  Snacks]\n",
       "21    [Frozen,  Frozen Snacks]\n",
       "22    [Frozen,  Frozen Snacks]\n",
       "23     [Frozen,  Frozen Fruit]\n",
       "24     [Frozen,  Frozen Fruit]\n",
       "Name: Category, dtype: object"
      ]
     },
     "execution_count": 34,
     "metadata": {},
     "output_type": "execute_result"
    }
   ],
   "source": [
    "#split\n",
    "df.Category.str.split(':')"
   ]
  },
  {
   "cell_type": "code",
   "execution_count": 36,
   "id": "8b16695a",
   "metadata": {},
   "outputs": [
    {
     "data": {
      "text/html": [
       "<div>\n",
       "<style scoped>\n",
       "    .dataframe tbody tr th:only-of-type {\n",
       "        vertical-align: middle;\n",
       "    }\n",
       "\n",
       "    .dataframe tbody tr th {\n",
       "        vertical-align: top;\n",
       "    }\n",
       "\n",
       "    .dataframe thead th {\n",
       "        text-align: right;\n",
       "    }\n",
       "</style>\n",
       "<table border=\"1\" class=\"dataframe\">\n",
       "  <thead>\n",
       "    <tr style=\"text-align: right;\">\n",
       "      <th></th>\n",
       "      <th>0</th>\n",
       "      <th>1</th>\n",
       "    </tr>\n",
       "  </thead>\n",
       "  <tbody>\n",
       "    <tr>\n",
       "      <th>0</th>\n",
       "      <td>Produce</td>\n",
       "      <td>Fruit</td>\n",
       "    </tr>\n",
       "    <tr>\n",
       "      <th>1</th>\n",
       "      <td>Produce</td>\n",
       "      <td>Fruit</td>\n",
       "    </tr>\n",
       "    <tr>\n",
       "      <th>2</th>\n",
       "      <td>Produce</td>\n",
       "      <td>Fruit</td>\n",
       "    </tr>\n",
       "    <tr>\n",
       "      <th>3</th>\n",
       "      <td>Produce</td>\n",
       "      <td>Fruit</td>\n",
       "    </tr>\n",
       "    <tr>\n",
       "      <th>4</th>\n",
       "      <td>Produce</td>\n",
       "      <td>Fruit</td>\n",
       "    </tr>\n",
       "    <tr>\n",
       "      <th>5</th>\n",
       "      <td>Produce</td>\n",
       "      <td>Fruit</td>\n",
       "    </tr>\n",
       "    <tr>\n",
       "      <th>6</th>\n",
       "      <td>Produce</td>\n",
       "      <td>Vegetable</td>\n",
       "    </tr>\n",
       "    <tr>\n",
       "      <th>7</th>\n",
       "      <td>Produce</td>\n",
       "      <td>Vegetable</td>\n",
       "    </tr>\n",
       "    <tr>\n",
       "      <th>8</th>\n",
       "      <td>Produce</td>\n",
       "      <td>Vegetable</td>\n",
       "    </tr>\n",
       "    <tr>\n",
       "      <th>9</th>\n",
       "      <td>Produce</td>\n",
       "      <td>Vegetable</td>\n",
       "    </tr>\n",
       "    <tr>\n",
       "      <th>10</th>\n",
       "      <td>Produce</td>\n",
       "      <td>Meat</td>\n",
       "    </tr>\n",
       "    <tr>\n",
       "      <th>11</th>\n",
       "      <td>Produce</td>\n",
       "      <td>Meat</td>\n",
       "    </tr>\n",
       "    <tr>\n",
       "      <th>12</th>\n",
       "      <td>Produce</td>\n",
       "      <td>Meat</td>\n",
       "    </tr>\n",
       "    <tr>\n",
       "      <th>13</th>\n",
       "      <td>Produce</td>\n",
       "      <td>Dairy</td>\n",
       "    </tr>\n",
       "    <tr>\n",
       "      <th>14</th>\n",
       "      <td>Produce</td>\n",
       "      <td>Dairy</td>\n",
       "    </tr>\n",
       "    <tr>\n",
       "      <th>15</th>\n",
       "      <td>Produce</td>\n",
       "      <td>Dairy</td>\n",
       "    </tr>\n",
       "    <tr>\n",
       "      <th>16</th>\n",
       "      <td>Produce</td>\n",
       "      <td>Dairy</td>\n",
       "    </tr>\n",
       "    <tr>\n",
       "      <th>17</th>\n",
       "      <td>Pantry</td>\n",
       "      <td>Snacks</td>\n",
       "    </tr>\n",
       "    <tr>\n",
       "      <th>18</th>\n",
       "      <td>Pantry</td>\n",
       "      <td>Snacks</td>\n",
       "    </tr>\n",
       "    <tr>\n",
       "      <th>19</th>\n",
       "      <td>Pantry</td>\n",
       "      <td>Snacks</td>\n",
       "    </tr>\n",
       "    <tr>\n",
       "      <th>20</th>\n",
       "      <td>Pantry</td>\n",
       "      <td>Snacks</td>\n",
       "    </tr>\n",
       "    <tr>\n",
       "      <th>21</th>\n",
       "      <td>Frozen</td>\n",
       "      <td>Frozen Snacks</td>\n",
       "    </tr>\n",
       "    <tr>\n",
       "      <th>22</th>\n",
       "      <td>Frozen</td>\n",
       "      <td>Frozen Snacks</td>\n",
       "    </tr>\n",
       "    <tr>\n",
       "      <th>23</th>\n",
       "      <td>Frozen</td>\n",
       "      <td>Frozen Fruit</td>\n",
       "    </tr>\n",
       "    <tr>\n",
       "      <th>24</th>\n",
       "      <td>Frozen</td>\n",
       "      <td>Frozen Fruit</td>\n",
       "    </tr>\n",
       "  </tbody>\n",
       "</table>\n",
       "</div>"
      ],
      "text/plain": [
       "          0               1\n",
       "0   Produce           Fruit\n",
       "1   Produce           Fruit\n",
       "2   Produce           Fruit\n",
       "3   Produce           Fruit\n",
       "4   Produce           Fruit\n",
       "5   Produce           Fruit\n",
       "6   Produce       Vegetable\n",
       "7   Produce       Vegetable\n",
       "8   Produce       Vegetable\n",
       "9   Produce       Vegetable\n",
       "10  Produce            Meat\n",
       "11  Produce            Meat\n",
       "12  Produce            Meat\n",
       "13  Produce           Dairy\n",
       "14  Produce           Dairy\n",
       "15  Produce           Dairy\n",
       "16  Produce           Dairy\n",
       "17   Pantry          Snacks\n",
       "18   Pantry          Snacks\n",
       "19   Pantry          Snacks\n",
       "20   Pantry          Snacks\n",
       "21   Frozen   Frozen Snacks\n",
       "22   Frozen   Frozen Snacks\n",
       "23   Frozen    Frozen Fruit\n",
       "24   Frozen    Frozen Fruit"
      ]
     },
     "execution_count": 36,
     "metadata": {},
     "output_type": "execute_result"
    }
   ],
   "source": [
    "#to make into two diff cols\n",
    "pd.DataFrame(df.Category.str.split(':').to_list())"
   ]
  },
  {
   "cell_type": "code",
   "execution_count": 37,
   "id": "061ff50c",
   "metadata": {},
   "outputs": [],
   "source": [
    "df[['Category','SubCategory']]=pd.DataFrame(df.Category.str.split(':').to_list())"
   ]
  },
  {
   "cell_type": "code",
   "execution_count": 44,
   "id": "e1c29aca",
   "metadata": {},
   "outputs": [],
   "source": [
    "df.drop('New_col', axis=1, inplace=True)\n",
    "\n"
   ]
  },
  {
   "cell_type": "code",
   "execution_count": 47,
   "id": "8e5bdc3b",
   "metadata": {},
   "outputs": [],
   "source": [
    "df.drop('Total Inventory', axis=1, inplace=True)"
   ]
  },
  {
   "cell_type": "code",
   "execution_count": 49,
   "id": "f16957f2",
   "metadata": {},
   "outputs": [
    {
     "data": {
      "text/html": [
       "<div>\n",
       "<style scoped>\n",
       "    .dataframe tbody tr th:only-of-type {\n",
       "        vertical-align: middle;\n",
       "    }\n",
       "\n",
       "    .dataframe tbody tr th {\n",
       "        vertical-align: top;\n",
       "    }\n",
       "\n",
       "    .dataframe thead th {\n",
       "        text-align: right;\n",
       "    }\n",
       "</style>\n",
       "<table border=\"1\" class=\"dataframe\">\n",
       "  <thead>\n",
       "    <tr style=\"text-align: right;\">\n",
       "      <th></th>\n",
       "      <th>Product_ID</th>\n",
       "      <th>Product_Id_No</th>\n",
       "      <th>Category</th>\n",
       "      <th>SubCategory</th>\n",
       "      <th>Price_Dollars</th>\n",
       "      <th>Inventory</th>\n",
       "      <th>Pecentage Inventory</th>\n",
       "      <th>Inventory Flag</th>\n",
       "      <th>Last_Updated</th>\n",
       "      <th>LastUpdatedTiime</th>\n",
       "      <th>Next_Scheduled_Shipment</th>\n",
       "      <th>Shipment_Date_Dow</th>\n",
       "    </tr>\n",
       "  </thead>\n",
       "  <tbody>\n",
       "    <tr>\n",
       "      <th>0</th>\n",
       "      <td>P100010</td>\n",
       "      <td>100010</td>\n",
       "      <td>Produce</td>\n",
       "      <td>Fruit</td>\n",
       "      <td>1.50</td>\n",
       "      <td>349</td>\n",
       "      <td>7.19</td>\n",
       "      <td></td>\n",
       "      <td>2023-06-12 15:35:00</td>\n",
       "      <td>15:35:00</td>\n",
       "      <td>2023-06-15</td>\n",
       "      <td>Thursday</td>\n",
       "    </tr>\n",
       "    <tr>\n",
       "      <th>1</th>\n",
       "      <td>P100011</td>\n",
       "      <td>100011</td>\n",
       "      <td>Produce</td>\n",
       "      <td>Fruit</td>\n",
       "      <td>0.40</td>\n",
       "      <td>500</td>\n",
       "      <td>10.29</td>\n",
       "      <td></td>\n",
       "      <td>2023-06-12 18:30:00</td>\n",
       "      <td>18:30:00</td>\n",
       "      <td>2023-06-15</td>\n",
       "      <td>Thursday</td>\n",
       "    </tr>\n",
       "    <tr>\n",
       "      <th>2</th>\n",
       "      <td>P100012</td>\n",
       "      <td>100012</td>\n",
       "      <td>Produce</td>\n",
       "      <td>Fruit</td>\n",
       "      <td>4.00</td>\n",
       "      <td>200</td>\n",
       "      <td>4.12</td>\n",
       "      <td></td>\n",
       "      <td>2023-06-12 17:22:00</td>\n",
       "      <td>17:22:00</td>\n",
       "      <td>2023-06-15</td>\n",
       "      <td>Thursday</td>\n",
       "    </tr>\n",
       "    <tr>\n",
       "      <th>3</th>\n",
       "      <td>P100013</td>\n",
       "      <td>100013</td>\n",
       "      <td>Produce</td>\n",
       "      <td>Fruit</td>\n",
       "      <td>0.99</td>\n",
       "      <td>50</td>\n",
       "      <td>1.03</td>\n",
       "      <td></td>\n",
       "      <td>2023-06-12 16:29:00</td>\n",
       "      <td>16:29:00</td>\n",
       "      <td>2023-06-15</td>\n",
       "      <td>Thursday</td>\n",
       "    </tr>\n",
       "    <tr>\n",
       "      <th>4</th>\n",
       "      <td>P100014</td>\n",
       "      <td>100014</td>\n",
       "      <td>Produce</td>\n",
       "      <td>Fruit</td>\n",
       "      <td>3.99</td>\n",
       "      <td>148</td>\n",
       "      <td>3.05</td>\n",
       "      <td></td>\n",
       "      <td>2023-06-12 18:10:00</td>\n",
       "      <td>18:10:00</td>\n",
       "      <td>2023-06-15</td>\n",
       "      <td>Thursday</td>\n",
       "    </tr>\n",
       "  </tbody>\n",
       "</table>\n",
       "</div>"
      ],
      "text/plain": [
       "  Product_ID  Product_Id_No Category SubCategory  Price_Dollars  Inventory  \\\n",
       "0    P100010         100010  Produce       Fruit           1.50        349   \n",
       "1    P100011         100011  Produce       Fruit           0.40        500   \n",
       "2    P100012         100012  Produce       Fruit           4.00        200   \n",
       "3    P100013         100013  Produce       Fruit           0.99         50   \n",
       "4    P100014         100014  Produce       Fruit           3.99        148   \n",
       "\n",
       "   Pecentage Inventory Inventory Flag        Last_Updated LastUpdatedTiime  \\\n",
       "0                 7.19                2023-06-12 15:35:00         15:35:00   \n",
       "1                10.29                2023-06-12 18:30:00         18:30:00   \n",
       "2                 4.12                2023-06-12 17:22:00         17:22:00   \n",
       "3                 1.03                2023-06-12 16:29:00         16:29:00   \n",
       "4                 3.05                2023-06-12 18:10:00         18:10:00   \n",
       "\n",
       "  Next_Scheduled_Shipment Shipment_Date_Dow  \n",
       "0              2023-06-15          Thursday  \n",
       "1              2023-06-15          Thursday  \n",
       "2              2023-06-15          Thursday  \n",
       "3              2023-06-15          Thursday  \n",
       "4              2023-06-15          Thursday  "
      ]
     },
     "execution_count": 49,
     "metadata": {},
     "output_type": "execute_result"
    }
   ],
   "source": [
    "#Reoder all cols \n",
    "df[['Product_ID','Product_Id_No','Category','SubCategory',\n",
    "    'Price_Dollars','Inventory','Pecentage Inventory','Inventory Flag','Last_Updated',\n",
    "    'LastUpdatedTiime',\n",
    "    'Next_Scheduled_Shipment','Shipment_Date_Dow'\n",
    "    \n",
    "]].head()"
   ]
  },
  {
   "cell_type": "code",
   "execution_count": null,
   "id": "b239cbad",
   "metadata": {},
   "outputs": [],
   "source": [
    "#save this clean df. pickle file formate"
   ]
  },
  {
   "cell_type": "code",
   "execution_count": 50,
   "id": "fdec70ce",
   "metadata": {},
   "outputs": [],
   "source": [
    "groceries_with_new_cols=df[['Product_ID','Product_Id_No','Category','SubCategory',\n",
    "    'Price_Dollars','Inventory','Pecentage Inventory','Inventory Flag','Last_Updated',\n",
    "    'LastUpdatedTiime',\n",
    "    'Next_Scheduled_Shipment','Shipment_Date_Dow'\n",
    "    \n",
    "]]"
   ]
  },
  {
   "cell_type": "code",
   "execution_count": 51,
   "id": "df42d60e",
   "metadata": {},
   "outputs": [],
   "source": [
    "groceries_with_new_cols.to_pickle('groceries_with_new_columna.pkl')"
   ]
  },
  {
   "cell_type": "code",
   "execution_count": null,
   "id": "13d70f8d",
   "metadata": {},
   "outputs": [],
   "source": []
  }
 ],
 "metadata": {
  "kernelspec": {
   "display_name": "Python 3 (ipykernel)",
   "language": "python",
   "name": "python3"
  },
  "language_info": {
   "codemirror_mode": {
    "name": "ipython",
    "version": 3
   },
   "file_extension": ".py",
   "mimetype": "text/x-python",
   "name": "python",
   "nbconvert_exporter": "python",
   "pygments_lexer": "ipython3",
   "version": "3.11.5"
  }
 },
 "nbformat": 4,
 "nbformat_minor": 5
}
