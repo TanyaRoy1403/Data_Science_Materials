{
 "cells": [
  {
   "cell_type": "markdown",
   "id": "88af57e1",
   "metadata": {},
   "source": [
    "## Exploratory Data Analysis"
   ]
  },
  {
   "cell_type": "markdown",
   "id": "107be4a9",
   "metadata": {},
   "source": [
    "Common EDA technoques"
   ]
  },
  {
   "cell_type": "markdown",
   "id": "08d84159",
   "metadata": {},
   "source": [
    "#### Exploring data\n",
    "Example:\n",
    "Filetring\n",
    "Sorting\n",
    "Grouping"
   ]
  },
  {
   "cell_type": "markdown",
   "id": "c29632a7",
   "metadata": {},
   "source": [
    "#### Visualizing data\n",
    "Example: Histograms\n",
    "ScatterPlot\n",
    "Pair Plots"
   ]
  },
  {
   "cell_type": "code",
   "execution_count": null,
   "id": "62628265",
   "metadata": {},
   "outputs": [],
   "source": []
  }
 ],
 "metadata": {
  "kernelspec": {
   "display_name": "Python 3 (ipykernel)",
   "language": "python",
   "name": "python3"
  },
  "language_info": {
   "codemirror_mode": {
    "name": "ipython",
    "version": 3
   },
   "file_extension": ".py",
   "mimetype": "text/x-python",
   "name": "python",
   "nbconvert_exporter": "python",
   "pygments_lexer": "ipython3",
   "version": "3.11.5"
  }
 },
 "nbformat": 4,
 "nbformat_minor": 5
}
